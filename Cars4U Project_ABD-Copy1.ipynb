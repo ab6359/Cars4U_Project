{
 "cells": [
  {
   "cell_type": "markdown",
   "metadata": {},
   "source": [
    "# Project - Cars4U\n",
    "\n",
    "Objective:\n",
    "- To explore and visualize the dataset\n",
    "- Building a linear regression model to predict the prices of used cars\n",
    "- Create a set of insights and recommendations to help the business\n",
    "\n"
   ]
  },
  {
   "cell_type": "code",
   "execution_count": 1,
   "metadata": {},
   "outputs": [],
   "source": [
    "import numpy as np\n",
    "import seaborn as sns\n",
    "import pandas as pd\n",
    "import matplotlib.pyplot as plt"
   ]
  },
  {
   "cell_type": "code",
   "execution_count": 2,
   "metadata": {},
   "outputs": [],
   "source": [
    "#Import the data\n",
    "train_data = pd.read_csv(\"used_cars_data.csv\")"
   ]
  },
  {
   "cell_type": "markdown",
   "metadata": {},
   "source": [
    "## Start the EDA"
   ]
  },
  {
   "cell_type": "code",
   "execution_count": 3,
   "metadata": {},
   "outputs": [
    {
     "data": {
      "text/html": [
       "<div>\n",
       "<style scoped>\n",
       "    .dataframe tbody tr th:only-of-type {\n",
       "        vertical-align: middle;\n",
       "    }\n",
       "\n",
       "    .dataframe tbody tr th {\n",
       "        vertical-align: top;\n",
       "    }\n",
       "\n",
       "    .dataframe thead th {\n",
       "        text-align: right;\n",
       "    }\n",
       "</style>\n",
       "<table border=\"1\" class=\"dataframe\">\n",
       "  <thead>\n",
       "    <tr style=\"text-align: right;\">\n",
       "      <th></th>\n",
       "      <th>S.No.</th>\n",
       "      <th>Name</th>\n",
       "      <th>Location</th>\n",
       "      <th>Year</th>\n",
       "      <th>Kilometers_Driven</th>\n",
       "      <th>Fuel_Type</th>\n",
       "      <th>Transmission</th>\n",
       "      <th>Owner_Type</th>\n",
       "      <th>Mileage</th>\n",
       "      <th>Engine</th>\n",
       "      <th>Power</th>\n",
       "      <th>Seats</th>\n",
       "      <th>New_Price</th>\n",
       "      <th>Price</th>\n",
       "    </tr>\n",
       "  </thead>\n",
       "  <tbody>\n",
       "    <tr>\n",
       "      <th>0</th>\n",
       "      <td>0</td>\n",
       "      <td>Maruti Wagon R LXI CNG</td>\n",
       "      <td>Mumbai</td>\n",
       "      <td>2010</td>\n",
       "      <td>72000</td>\n",
       "      <td>CNG</td>\n",
       "      <td>Manual</td>\n",
       "      <td>First</td>\n",
       "      <td>26.6 km/kg</td>\n",
       "      <td>998 CC</td>\n",
       "      <td>58.16 bhp</td>\n",
       "      <td>5.0</td>\n",
       "      <td>NaN</td>\n",
       "      <td>1.75</td>\n",
       "    </tr>\n",
       "    <tr>\n",
       "      <th>1</th>\n",
       "      <td>1</td>\n",
       "      <td>Hyundai Creta 1.6 CRDi SX Option</td>\n",
       "      <td>Pune</td>\n",
       "      <td>2015</td>\n",
       "      <td>41000</td>\n",
       "      <td>Diesel</td>\n",
       "      <td>Manual</td>\n",
       "      <td>First</td>\n",
       "      <td>19.67 kmpl</td>\n",
       "      <td>1582 CC</td>\n",
       "      <td>126.2 bhp</td>\n",
       "      <td>5.0</td>\n",
       "      <td>NaN</td>\n",
       "      <td>12.50</td>\n",
       "    </tr>\n",
       "    <tr>\n",
       "      <th>2</th>\n",
       "      <td>2</td>\n",
       "      <td>Honda Jazz V</td>\n",
       "      <td>Chennai</td>\n",
       "      <td>2011</td>\n",
       "      <td>46000</td>\n",
       "      <td>Petrol</td>\n",
       "      <td>Manual</td>\n",
       "      <td>First</td>\n",
       "      <td>18.2 kmpl</td>\n",
       "      <td>1199 CC</td>\n",
       "      <td>88.7 bhp</td>\n",
       "      <td>5.0</td>\n",
       "      <td>8.61 Lakh</td>\n",
       "      <td>4.50</td>\n",
       "    </tr>\n",
       "    <tr>\n",
       "      <th>3</th>\n",
       "      <td>3</td>\n",
       "      <td>Maruti Ertiga VDI</td>\n",
       "      <td>Chennai</td>\n",
       "      <td>2012</td>\n",
       "      <td>87000</td>\n",
       "      <td>Diesel</td>\n",
       "      <td>Manual</td>\n",
       "      <td>First</td>\n",
       "      <td>20.77 kmpl</td>\n",
       "      <td>1248 CC</td>\n",
       "      <td>88.76 bhp</td>\n",
       "      <td>7.0</td>\n",
       "      <td>NaN</td>\n",
       "      <td>6.00</td>\n",
       "    </tr>\n",
       "    <tr>\n",
       "      <th>4</th>\n",
       "      <td>4</td>\n",
       "      <td>Audi A4 New 2.0 TDI Multitronic</td>\n",
       "      <td>Coimbatore</td>\n",
       "      <td>2013</td>\n",
       "      <td>40670</td>\n",
       "      <td>Diesel</td>\n",
       "      <td>Automatic</td>\n",
       "      <td>Second</td>\n",
       "      <td>15.2 kmpl</td>\n",
       "      <td>1968 CC</td>\n",
       "      <td>140.8 bhp</td>\n",
       "      <td>5.0</td>\n",
       "      <td>NaN</td>\n",
       "      <td>17.74</td>\n",
       "    </tr>\n",
       "  </tbody>\n",
       "</table>\n",
       "</div>"
      ],
      "text/plain": [
       "   S.No.                              Name    Location  Year  \\\n",
       "0      0            Maruti Wagon R LXI CNG      Mumbai  2010   \n",
       "1      1  Hyundai Creta 1.6 CRDi SX Option        Pune  2015   \n",
       "2      2                      Honda Jazz V     Chennai  2011   \n",
       "3      3                 Maruti Ertiga VDI     Chennai  2012   \n",
       "4      4   Audi A4 New 2.0 TDI Multitronic  Coimbatore  2013   \n",
       "\n",
       "   Kilometers_Driven Fuel_Type Transmission Owner_Type     Mileage   Engine  \\\n",
       "0              72000       CNG       Manual      First  26.6 km/kg   998 CC   \n",
       "1              41000    Diesel       Manual      First  19.67 kmpl  1582 CC   \n",
       "2              46000    Petrol       Manual      First   18.2 kmpl  1199 CC   \n",
       "3              87000    Diesel       Manual      First  20.77 kmpl  1248 CC   \n",
       "4              40670    Diesel    Automatic     Second   15.2 kmpl  1968 CC   \n",
       "\n",
       "       Power  Seats  New_Price  Price  \n",
       "0  58.16 bhp    5.0        NaN   1.75  \n",
       "1  126.2 bhp    5.0        NaN  12.50  \n",
       "2   88.7 bhp    5.0  8.61 Lakh   4.50  \n",
       "3  88.76 bhp    7.0        NaN   6.00  \n",
       "4  140.8 bhp    5.0        NaN  17.74  "
      ]
     },
     "execution_count": 3,
     "metadata": {},
     "output_type": "execute_result"
    }
   ],
   "source": [
    "train_data.head()\n"
   ]
  },
  {
   "cell_type": "code",
   "execution_count": 4,
   "metadata": {},
   "outputs": [
    {
     "name": "stdout",
     "output_type": "stream",
     "text": [
      "<class 'pandas.core.frame.DataFrame'>\n",
      "RangeIndex: 7253 entries, 0 to 7252\n",
      "Data columns (total 14 columns):\n",
      " #   Column             Non-Null Count  Dtype  \n",
      "---  ------             --------------  -----  \n",
      " 0   S.No.              7253 non-null   int64  \n",
      " 1   Name               7253 non-null   object \n",
      " 2   Location           7253 non-null   object \n",
      " 3   Year               7253 non-null   int64  \n",
      " 4   Kilometers_Driven  7253 non-null   int64  \n",
      " 5   Fuel_Type          7253 non-null   object \n",
      " 6   Transmission       7253 non-null   object \n",
      " 7   Owner_Type         7253 non-null   object \n",
      " 8   Mileage            7251 non-null   object \n",
      " 9   Engine             7207 non-null   object \n",
      " 10  Power              7207 non-null   object \n",
      " 11  Seats              7200 non-null   float64\n",
      " 12  New_Price          1006 non-null   object \n",
      " 13  Price              6019 non-null   float64\n",
      "dtypes: float64(2), int64(3), object(9)\n",
      "memory usage: 793.4+ KB\n"
     ]
    }
   ],
   "source": [
    "train_data.shape\n",
    "#data.shape tells us that there are 7253 entries in this dataset\n",
    "train_data.describe()\n",
    "train_data.info()"
   ]
  },
  {
   "cell_type": "code",
   "execution_count": 5,
   "metadata": {},
   "outputs": [
    {
     "data": {
      "text/plain": [
       "New_Price            6247\n",
       "Price                1234\n",
       "Seats                  53\n",
       "Power                  46\n",
       "Engine                 46\n",
       "Mileage                 2\n",
       "Owner_Type              0\n",
       "Transmission            0\n",
       "Fuel_Type               0\n",
       "Kilometers_Driven       0\n",
       "Year                    0\n",
       "Location                0\n",
       "Name                    0\n",
       "S.No.                   0\n",
       "dtype: int64"
      ]
     },
     "execution_count": 5,
     "metadata": {},
     "output_type": "execute_result"
    }
   ],
   "source": [
    "train_data.isnull().sum().sort_values(ascending = False)\n",
    "#this shows that there are 6247 rows in the New_Price column with missing data\n",
    "#1234 rows in the Price column with missing data\n",
    "#53 rows in the Seats columns with missing data\n",
    "#46 rows in the power and engine columns with missing data\n",
    "#2 rows in the mileage column with missing data\n"
   ]
  },
  {
   "cell_type": "code",
   "execution_count": 6,
   "metadata": {},
   "outputs": [
    {
     "data": {
      "text/html": [
       "<div>\n",
       "<style scoped>\n",
       "    .dataframe tbody tr th:only-of-type {\n",
       "        vertical-align: middle;\n",
       "    }\n",
       "\n",
       "    .dataframe tbody tr th {\n",
       "        vertical-align: top;\n",
       "    }\n",
       "\n",
       "    .dataframe thead th {\n",
       "        text-align: right;\n",
       "    }\n",
       "</style>\n",
       "<table border=\"1\" class=\"dataframe\">\n",
       "  <thead>\n",
       "    <tr style=\"text-align: right;\">\n",
       "      <th></th>\n",
       "      <th>S.No.</th>\n",
       "      <th>Name</th>\n",
       "      <th>Location</th>\n",
       "      <th>Year</th>\n",
       "      <th>Kilometers_Driven</th>\n",
       "      <th>Fuel_Type</th>\n",
       "      <th>Transmission</th>\n",
       "      <th>Owner_Type</th>\n",
       "      <th>Mileage</th>\n",
       "      <th>Engine</th>\n",
       "      <th>Power</th>\n",
       "      <th>Seats</th>\n",
       "      <th>New_Price</th>\n",
       "      <th>Price</th>\n",
       "    </tr>\n",
       "  </thead>\n",
       "  <tbody>\n",
       "    <tr>\n",
       "      <th>1747</th>\n",
       "      <td>1747</td>\n",
       "      <td>Maruti Eeco 7 Seater Standard</td>\n",
       "      <td>Coimbatore</td>\n",
       "      <td>2017</td>\n",
       "      <td>28371</td>\n",
       "      <td>Petrol</td>\n",
       "      <td>Manual</td>\n",
       "      <td>First</td>\n",
       "      <td>15.1 kmpl</td>\n",
       "      <td>1196 CC</td>\n",
       "      <td>73 bhp</td>\n",
       "      <td>7.0</td>\n",
       "      <td>4.98 Lakh</td>\n",
       "      <td>4.74</td>\n",
       "    </tr>\n",
       "    <tr>\n",
       "      <th>2147</th>\n",
       "      <td>2147</td>\n",
       "      <td>Maruti Ciaz AT ZXi</td>\n",
       "      <td>Mumbai</td>\n",
       "      <td>2014</td>\n",
       "      <td>46738</td>\n",
       "      <td>Petrol</td>\n",
       "      <td>Automatic</td>\n",
       "      <td>First</td>\n",
       "      <td>19.12 kmpl</td>\n",
       "      <td>1373 CC</td>\n",
       "      <td>91.1 bhp</td>\n",
       "      <td>5.0</td>\n",
       "      <td>NaN</td>\n",
       "      <td>6.10</td>\n",
       "    </tr>\n",
       "    <tr>\n",
       "      <th>7191</th>\n",
       "      <td>7191</td>\n",
       "      <td>Renault Duster 110PS Diesel RxZ</td>\n",
       "      <td>Delhi</td>\n",
       "      <td>2013</td>\n",
       "      <td>62000</td>\n",
       "      <td>Diesel</td>\n",
       "      <td>Manual</td>\n",
       "      <td>First</td>\n",
       "      <td>19.01 kmpl</td>\n",
       "      <td>1461 CC</td>\n",
       "      <td>108.45 bhp</td>\n",
       "      <td>5.0</td>\n",
       "      <td>NaN</td>\n",
       "      <td>NaN</td>\n",
       "    </tr>\n",
       "    <tr>\n",
       "      <th>4585</th>\n",
       "      <td>4585</td>\n",
       "      <td>Hyundai EON Era</td>\n",
       "      <td>Kochi</td>\n",
       "      <td>2017</td>\n",
       "      <td>8243</td>\n",
       "      <td>Petrol</td>\n",
       "      <td>Manual</td>\n",
       "      <td>First</td>\n",
       "      <td>21.1 kmpl</td>\n",
       "      <td>814 CC</td>\n",
       "      <td>55.2 bhp</td>\n",
       "      <td>5.0</td>\n",
       "      <td>NaN</td>\n",
       "      <td>3.21</td>\n",
       "    </tr>\n",
       "    <tr>\n",
       "      <th>125</th>\n",
       "      <td>125</td>\n",
       "      <td>Mahindra Scorpio VLX</td>\n",
       "      <td>Kolkata</td>\n",
       "      <td>2014</td>\n",
       "      <td>42000</td>\n",
       "      <td>Diesel</td>\n",
       "      <td>Manual</td>\n",
       "      <td>First</td>\n",
       "      <td>12.05 kmpl</td>\n",
       "      <td>2179 CC</td>\n",
       "      <td>120 bhp</td>\n",
       "      <td>8.0</td>\n",
       "      <td>NaN</td>\n",
       "      <td>7.75</td>\n",
       "    </tr>\n",
       "    <tr>\n",
       "      <th>879</th>\n",
       "      <td>879</td>\n",
       "      <td>Maruti Swift DDiS ZDI Plus</td>\n",
       "      <td>Hyderabad</td>\n",
       "      <td>2018</td>\n",
       "      <td>5456</td>\n",
       "      <td>Diesel</td>\n",
       "      <td>Manual</td>\n",
       "      <td>First</td>\n",
       "      <td>28.4 kmpl</td>\n",
       "      <td>1248 CC</td>\n",
       "      <td>74 bhp</td>\n",
       "      <td>5.0</td>\n",
       "      <td>NaN</td>\n",
       "      <td>8.65</td>\n",
       "    </tr>\n",
       "    <tr>\n",
       "      <th>811</th>\n",
       "      <td>811</td>\n",
       "      <td>Honda Mobilio S i DTEC</td>\n",
       "      <td>Chennai</td>\n",
       "      <td>2015</td>\n",
       "      <td>65000</td>\n",
       "      <td>Diesel</td>\n",
       "      <td>Manual</td>\n",
       "      <td>First</td>\n",
       "      <td>24.2 kmpl</td>\n",
       "      <td>1498 CC</td>\n",
       "      <td>98.6 bhp</td>\n",
       "      <td>7.0</td>\n",
       "      <td>NaN</td>\n",
       "      <td>5.50</td>\n",
       "    </tr>\n",
       "    <tr>\n",
       "      <th>2783</th>\n",
       "      <td>2783</td>\n",
       "      <td>Ford Ecosport 1.5 Ti VCT MT Trend</td>\n",
       "      <td>Coimbatore</td>\n",
       "      <td>2014</td>\n",
       "      <td>62497</td>\n",
       "      <td>Petrol</td>\n",
       "      <td>Manual</td>\n",
       "      <td>First</td>\n",
       "      <td>15.8 kmpl</td>\n",
       "      <td>1499 CC</td>\n",
       "      <td>110 bhp</td>\n",
       "      <td>5.0</td>\n",
       "      <td>NaN</td>\n",
       "      <td>7.52</td>\n",
       "    </tr>\n",
       "    <tr>\n",
       "      <th>3030</th>\n",
       "      <td>3030</td>\n",
       "      <td>BMW 3 Series 320d Sport</td>\n",
       "      <td>Mumbai</td>\n",
       "      <td>2012</td>\n",
       "      <td>37000</td>\n",
       "      <td>Diesel</td>\n",
       "      <td>Automatic</td>\n",
       "      <td>Third</td>\n",
       "      <td>22.69 kmpl</td>\n",
       "      <td>1995 CC</td>\n",
       "      <td>190 bhp</td>\n",
       "      <td>5.0</td>\n",
       "      <td>NaN</td>\n",
       "      <td>15.00</td>\n",
       "    </tr>\n",
       "    <tr>\n",
       "      <th>4911</th>\n",
       "      <td>4911</td>\n",
       "      <td>Honda City V MT</td>\n",
       "      <td>Pune</td>\n",
       "      <td>2012</td>\n",
       "      <td>69000</td>\n",
       "      <td>Petrol</td>\n",
       "      <td>Manual</td>\n",
       "      <td>First</td>\n",
       "      <td>16.8 kmpl</td>\n",
       "      <td>1497 CC</td>\n",
       "      <td>116.3 bhp</td>\n",
       "      <td>5.0</td>\n",
       "      <td>NaN</td>\n",
       "      <td>4.90</td>\n",
       "    </tr>\n",
       "  </tbody>\n",
       "</table>\n",
       "</div>"
      ],
      "text/plain": [
       "      S.No.                               Name    Location  Year  \\\n",
       "1747   1747      Maruti Eeco 7 Seater Standard  Coimbatore  2017   \n",
       "2147   2147                 Maruti Ciaz AT ZXi      Mumbai  2014   \n",
       "7191   7191    Renault Duster 110PS Diesel RxZ       Delhi  2013   \n",
       "4585   4585                    Hyundai EON Era       Kochi  2017   \n",
       "125     125               Mahindra Scorpio VLX     Kolkata  2014   \n",
       "879     879         Maruti Swift DDiS ZDI Plus   Hyderabad  2018   \n",
       "811     811             Honda Mobilio S i DTEC     Chennai  2015   \n",
       "2783   2783  Ford Ecosport 1.5 Ti VCT MT Trend  Coimbatore  2014   \n",
       "3030   3030            BMW 3 Series 320d Sport      Mumbai  2012   \n",
       "4911   4911                    Honda City V MT        Pune  2012   \n",
       "\n",
       "      Kilometers_Driven Fuel_Type Transmission Owner_Type     Mileage  \\\n",
       "1747              28371    Petrol       Manual      First   15.1 kmpl   \n",
       "2147              46738    Petrol    Automatic      First  19.12 kmpl   \n",
       "7191              62000    Diesel       Manual      First  19.01 kmpl   \n",
       "4585               8243    Petrol       Manual      First   21.1 kmpl   \n",
       "125               42000    Diesel       Manual      First  12.05 kmpl   \n",
       "879                5456    Diesel       Manual      First   28.4 kmpl   \n",
       "811               65000    Diesel       Manual      First   24.2 kmpl   \n",
       "2783              62497    Petrol       Manual      First   15.8 kmpl   \n",
       "3030              37000    Diesel    Automatic      Third  22.69 kmpl   \n",
       "4911              69000    Petrol       Manual      First   16.8 kmpl   \n",
       "\n",
       "       Engine       Power  Seats  New_Price  Price  \n",
       "1747  1196 CC      73 bhp    7.0  4.98 Lakh   4.74  \n",
       "2147  1373 CC    91.1 bhp    5.0        NaN   6.10  \n",
       "7191  1461 CC  108.45 bhp    5.0        NaN    NaN  \n",
       "4585   814 CC    55.2 bhp    5.0        NaN   3.21  \n",
       "125   2179 CC     120 bhp    8.0        NaN   7.75  \n",
       "879   1248 CC      74 bhp    5.0        NaN   8.65  \n",
       "811   1498 CC    98.6 bhp    7.0        NaN   5.50  \n",
       "2783  1499 CC     110 bhp    5.0        NaN   7.52  \n",
       "3030  1995 CC     190 bhp    5.0        NaN  15.00  \n",
       "4911  1497 CC   116.3 bhp    5.0        NaN   4.90  "
      ]
     },
     "execution_count": 6,
     "metadata": {},
     "output_type": "execute_result"
    }
   ],
   "source": [
    "duplicates_train_data = train_data[train_data.duplicated(['S.No.'])]\n",
    "#shows that there are no duplicate serial numbers\n",
    "train_data.sample(10)"
   ]
  },
  {
   "cell_type": "code",
   "execution_count": 7,
   "metadata": {},
   "outputs": [
    {
     "name": "stdout",
     "output_type": "stream",
     "text": [
      "<class 'pandas.core.frame.DataFrame'>\n",
      "Int64Index: 7251 entries, 0 to 7252\n",
      "Data columns (total 14 columns):\n",
      " #   Column             Non-Null Count  Dtype  \n",
      "---  ------             --------------  -----  \n",
      " 0   S.No.              7251 non-null   int64  \n",
      " 1   Name               7251 non-null   object \n",
      " 2   Location           7251 non-null   object \n",
      " 3   Year               7251 non-null   int64  \n",
      " 4   Kilometers_Driven  7251 non-null   int64  \n",
      " 5   Fuel_Type          7251 non-null   object \n",
      " 6   Transmission       7251 non-null   object \n",
      " 7   Owner_Type         7251 non-null   object \n",
      " 8   Mileage            7251 non-null   float64\n",
      " 9   Engine             7205 non-null   object \n",
      " 10  Power              7205 non-null   object \n",
      " 11  Seats              7198 non-null   float64\n",
      " 12  New_Price          1005 non-null   object \n",
      " 13  Price              6017 non-null   float64\n",
      "dtypes: float64(3), int64(3), object(8)\n",
      "memory usage: 849.7+ KB\n"
     ]
    }
   ],
   "source": [
    "#convert mileage column to an integer type\n",
    "#based on the forum, the academic team said it was ok to equivalate kmpl and km/g, so I will drop the unit \n",
    "\n",
    "#Mileage missing data was removed bc the removed data represents 0.03% of the data (2/7253), so this removal should not affect the data statistics\n",
    "train_data.dropna(subset = [\"Mileage\"], inplace = True)\n",
    "\n",
    "train_data[\"Mileage\"] = train_data[\"Mileage\"].str.rstrip(\" kmpl\")\n",
    "train_data[\"Mileage\"] = train_data[\"Mileage\"].str.rstrip(\" km/g\")\n",
    "train_data[\"Mileage\"] = train_data[\"Mileage\"].astype(float)\n",
    "train_data.info()"
   ]
  },
  {
   "cell_type": "code",
   "execution_count": 8,
   "metadata": {},
   "outputs": [
    {
     "data": {
      "text/html": [
       "<div>\n",
       "<style scoped>\n",
       "    .dataframe tbody tr th:only-of-type {\n",
       "        vertical-align: middle;\n",
       "    }\n",
       "\n",
       "    .dataframe tbody tr th {\n",
       "        vertical-align: top;\n",
       "    }\n",
       "\n",
       "    .dataframe thead th {\n",
       "        text-align: right;\n",
       "    }\n",
       "</style>\n",
       "<table border=\"1\" class=\"dataframe\">\n",
       "  <thead>\n",
       "    <tr style=\"text-align: right;\">\n",
       "      <th></th>\n",
       "      <th>S.No.</th>\n",
       "      <th>Name</th>\n",
       "      <th>Location</th>\n",
       "      <th>Year</th>\n",
       "      <th>Kilometers_Driven</th>\n",
       "      <th>Fuel_Type</th>\n",
       "      <th>Transmission</th>\n",
       "      <th>Owner_Type</th>\n",
       "      <th>Mileage</th>\n",
       "      <th>Engine</th>\n",
       "      <th>Power</th>\n",
       "      <th>Seats</th>\n",
       "      <th>New_Price</th>\n",
       "      <th>Price</th>\n",
       "    </tr>\n",
       "  </thead>\n",
       "  <tbody>\n",
       "    <tr>\n",
       "      <th>0</th>\n",
       "      <td>0</td>\n",
       "      <td>Maruti Wagon R LXI CNG</td>\n",
       "      <td>Mumbai</td>\n",
       "      <td>2010</td>\n",
       "      <td>72000</td>\n",
       "      <td>CNG</td>\n",
       "      <td>Manual</td>\n",
       "      <td>First</td>\n",
       "      <td>26.60</td>\n",
       "      <td>998 CC</td>\n",
       "      <td>58.16 bhp</td>\n",
       "      <td>5.0</td>\n",
       "      <td>NaN</td>\n",
       "      <td>1.75</td>\n",
       "    </tr>\n",
       "    <tr>\n",
       "      <th>1</th>\n",
       "      <td>1</td>\n",
       "      <td>Hyundai Creta 1.6 CRDi SX Option</td>\n",
       "      <td>Pune</td>\n",
       "      <td>2015</td>\n",
       "      <td>41000</td>\n",
       "      <td>Diesel</td>\n",
       "      <td>Manual</td>\n",
       "      <td>First</td>\n",
       "      <td>19.67</td>\n",
       "      <td>1582 CC</td>\n",
       "      <td>126.2 bhp</td>\n",
       "      <td>5.0</td>\n",
       "      <td>NaN</td>\n",
       "      <td>12.50</td>\n",
       "    </tr>\n",
       "    <tr>\n",
       "      <th>2</th>\n",
       "      <td>2</td>\n",
       "      <td>Honda Jazz V</td>\n",
       "      <td>Chennai</td>\n",
       "      <td>2011</td>\n",
       "      <td>46000</td>\n",
       "      <td>Petrol</td>\n",
       "      <td>Manual</td>\n",
       "      <td>First</td>\n",
       "      <td>18.20</td>\n",
       "      <td>1199 CC</td>\n",
       "      <td>88.7 bhp</td>\n",
       "      <td>5.0</td>\n",
       "      <td>8.61 Lakh</td>\n",
       "      <td>4.50</td>\n",
       "    </tr>\n",
       "    <tr>\n",
       "      <th>3</th>\n",
       "      <td>3</td>\n",
       "      <td>Maruti Ertiga VDI</td>\n",
       "      <td>Chennai</td>\n",
       "      <td>2012</td>\n",
       "      <td>87000</td>\n",
       "      <td>Diesel</td>\n",
       "      <td>Manual</td>\n",
       "      <td>First</td>\n",
       "      <td>20.77</td>\n",
       "      <td>1248 CC</td>\n",
       "      <td>88.76 bhp</td>\n",
       "      <td>7.0</td>\n",
       "      <td>NaN</td>\n",
       "      <td>6.00</td>\n",
       "    </tr>\n",
       "    <tr>\n",
       "      <th>4</th>\n",
       "      <td>4</td>\n",
       "      <td>Audi A4 New 2.0 TDI Multitronic</td>\n",
       "      <td>Coimbatore</td>\n",
       "      <td>2013</td>\n",
       "      <td>40670</td>\n",
       "      <td>Diesel</td>\n",
       "      <td>Automatic</td>\n",
       "      <td>Second</td>\n",
       "      <td>15.20</td>\n",
       "      <td>1968 CC</td>\n",
       "      <td>140.8 bhp</td>\n",
       "      <td>5.0</td>\n",
       "      <td>NaN</td>\n",
       "      <td>17.74</td>\n",
       "    </tr>\n",
       "  </tbody>\n",
       "</table>\n",
       "</div>"
      ],
      "text/plain": [
       "   S.No.                              Name    Location  Year  \\\n",
       "0      0            Maruti Wagon R LXI CNG      Mumbai  2010   \n",
       "1      1  Hyundai Creta 1.6 CRDi SX Option        Pune  2015   \n",
       "2      2                      Honda Jazz V     Chennai  2011   \n",
       "3      3                 Maruti Ertiga VDI     Chennai  2012   \n",
       "4      4   Audi A4 New 2.0 TDI Multitronic  Coimbatore  2013   \n",
       "\n",
       "   Kilometers_Driven Fuel_Type Transmission Owner_Type  Mileage   Engine  \\\n",
       "0              72000       CNG       Manual      First    26.60   998 CC   \n",
       "1              41000    Diesel       Manual      First    19.67  1582 CC   \n",
       "2              46000    Petrol       Manual      First    18.20  1199 CC   \n",
       "3              87000    Diesel       Manual      First    20.77  1248 CC   \n",
       "4              40670    Diesel    Automatic     Second    15.20  1968 CC   \n",
       "\n",
       "       Power  Seats  New_Price  Price  \n",
       "0  58.16 bhp    5.0        NaN   1.75  \n",
       "1  126.2 bhp    5.0        NaN  12.50  \n",
       "2   88.7 bhp    5.0  8.61 Lakh   4.50  \n",
       "3  88.76 bhp    7.0        NaN   6.00  \n",
       "4  140.8 bhp    5.0        NaN  17.74  "
      ]
     },
     "execution_count": 8,
     "metadata": {},
     "output_type": "execute_result"
    }
   ],
   "source": [
    "train_data.head()"
   ]
  },
  {
   "cell_type": "code",
   "execution_count": 9,
   "metadata": {
    "scrolled": true
   },
   "outputs": [
    {
     "data": {
      "text/plain": [
       "New_Price            6246\n",
       "Price                1234\n",
       "Power                  46\n",
       "Engine                 46\n",
       "Seats                   0\n",
       "Mileage                 0\n",
       "Owner_Type              0\n",
       "Transmission            0\n",
       "Fuel_Type               0\n",
       "Kilometers_Driven       0\n",
       "Year                    0\n",
       "Location                0\n",
       "Name                    0\n",
       "S.No.                   0\n",
       "dtype: int64"
      ]
     },
     "execution_count": 9,
     "metadata": {},
     "output_type": "execute_result"
    }
   ],
   "source": [
    "#replace the missing data with the median values\n",
    "\n",
    "#Seats missing data\n",
    "train_data[\"Seats\"].median()\n",
    "train_data[\"Seats\"]=train_data[\"Seats\"].fillna(train_data[\"Seats\"].median())\n",
    "train_data.isnull().sum().sort_values(ascending = False)\n",
    "\n",
    "#There are no more NaN in the 'Seats' columns \n"
   ]
  },
  {
   "cell_type": "code",
   "execution_count": 10,
   "metadata": {},
   "outputs": [
    {
     "data": {
      "text/plain": [
       "New_Price            6200\n",
       "Price                1224\n",
       "Seats                   0\n",
       "Power                   0\n",
       "Engine                  0\n",
       "Mileage                 0\n",
       "Owner_Type              0\n",
       "Transmission            0\n",
       "Fuel_Type               0\n",
       "Kilometers_Driven       0\n",
       "Year                    0\n",
       "Location                0\n",
       "Name                    0\n",
       "S.No.                   0\n",
       "dtype: int64"
      ]
     },
     "execution_count": 10,
     "metadata": {},
     "output_type": "execute_result"
    }
   ],
   "source": [
    "#Engine missing data\n",
    "\n",
    "train_data.dropna(subset = [\"Engine\", \"Power\"], inplace = True)\n",
    "train_data.isnull().sum().sort_values(ascending = False)\n",
    "\n",
    "train_data[\"Engine\"] = train_data[\"Engine\"].str.rstrip(\" CC\")\n",
    "train_data[\"Engine\"]=train_data[\"Engine\"].astype(int)\n",
    "\n",
    "train_data.isnull().sum().sort_values(ascending = False)"
   ]
  },
  {
   "cell_type": "code",
   "execution_count": 11,
   "metadata": {},
   "outputs": [
    {
     "data": {
      "text/plain": [
       "New_Price            6071\n",
       "Price                1202\n",
       "Seats                   0\n",
       "Power                   0\n",
       "Engine                  0\n",
       "Mileage                 0\n",
       "Owner_Type              0\n",
       "Transmission            0\n",
       "Fuel_Type               0\n",
       "Kilometers_Driven       0\n",
       "Year                    0\n",
       "Location                0\n",
       "Name                    0\n",
       "S.No.                   0\n",
       "dtype: int64"
      ]
     },
     "execution_count": 11,
     "metadata": {},
     "output_type": "execute_result"
    }
   ],
   "source": [
    "##Power missing data\n",
    "#remove unit\n",
    "train_data[\"Power\"] = train_data[\"Power\"].str.rstrip(\" bhp\")\n",
    "\n",
    "train_data.sample(20)\n",
    "\n",
    "train_data= train_data.replace(regex=\"null\", value = np.nan)\n",
    "train_data.dropna(subset = [ \"Power\"], inplace = True)\n",
    "\n",
    "train_data[\"Power\"] =train_data[\"Power\"].astype(float)\n",
    "train_data[\"Power\"].median()\n",
    "\n",
    "train_data.isnull().sum().sort_values(ascending = False)\n",
    "\n",
    "#train_data.info()\n"
   ]
  },
  {
   "cell_type": "markdown",
   "metadata": {},
   "source": [
    "## Outlier Detection\n",
    "in this section, I will determine which values are outliers, and which values arent"
   ]
  },
  {
   "cell_type": "code",
   "execution_count": 12,
   "metadata": {},
   "outputs": [
    {
     "data": {
      "text/plain": [
       "<matplotlib.axes._subplots.AxesSubplot at 0x7fa27ac61370>"
      ]
     },
     "execution_count": 12,
     "metadata": {},
     "output_type": "execute_result"
    },
    {
     "data": {
      "image/png": "[encoded data removed]",
      "text/plain": [
       "<Figure size 432x288 with 1 Axes>"
      ]
     },
     "metadata": {
      "needs_background": "light"
     },
     "output_type": "display_data"
    }
   ],
   "source": [
    "sns.boxplot(train_data.Mileage)"
   ]
  },
  {
   "cell_type": "code",
   "execution_count": 13,
   "metadata": {},
   "outputs": [
    {
     "data": {
      "text/plain": [
       "<matplotlib.axes._subplots.AxesSubplot at 0x7fa27b96e850>"
      ]
     },
     "execution_count": 13,
     "metadata": {},
     "output_type": "execute_result"
    },
    {
     "data": {
      "image/png": "[encoded data removed]",
      "text/plain": [
       "<Figure size 432x288 with 1 Axes>"
      ]
     },
     "metadata": {
      "needs_background": "light"
     },
     "output_type": "display_data"
    }
   ],
   "source": [
    "sns.boxplot(train_data.Price)"
   ]
  },
  {
   "cell_type": "code",
   "execution_count": 14,
   "metadata": {},
   "outputs": [
    {
     "data": {
      "text/plain": [
       "<matplotlib.axes._subplots.AxesSubplot at 0x7fa27ad120d0>"
      ]
     },
     "execution_count": 14,
     "metadata": {},
     "output_type": "execute_result"
    },
    {
     "data": {
      "image/png": "[encoded data removed]",
      "text/plain": [
       "<Figure size 432x288 with 1 Axes>"
      ]
     },
     "metadata": {
      "needs_background": "light"
     },
     "output_type": "display_data"
    }
   ],
   "source": [
    "sns.boxplot(train_data.Seats)"
   ]
  },
  {
   "cell_type": "code",
   "execution_count": 15,
   "metadata": {},
   "outputs": [
    {
     "data": {
      "text/plain": [
       "<matplotlib.axes._subplots.AxesSubplot at 0x7fa27ba1fd30>"
      ]
     },
     "execution_count": 15,
     "metadata": {},
     "output_type": "execute_result"
    },
    {
     "data": {
      "image/png": "[encoded data removed]",
      "text/plain": [
       "<Figure size 432x288 with 1 Axes>"
      ]
     },
     "metadata": {
      "needs_background": "light"
     },
     "output_type": "display_data"
    }
   ],
   "source": [
    "sns.boxplot(train_data.Year)"
   ]
  },
  {
   "cell_type": "code",
   "execution_count": 16,
   "metadata": {},
   "outputs": [
    {
     "data": {
      "text/plain": [
       "<matplotlib.axes._subplots.AxesSubplot at 0x7fa27bacf5e0>"
      ]
     },
     "execution_count": 16,
     "metadata": {},
     "output_type": "execute_result"
    },
    {
     "data": {
      "image/png": "[encoded data removed]",
      "text/plain": [
       "<Figure size 432x288 with 1 Axes>"
      ]
     },
     "metadata": {
      "needs_background": "light"
     },
     "output_type": "display_data"
    }
   ],
   "source": [
    "sns.boxplot(train_data.Power)"
   ]
  },
  {
   "cell_type": "code",
   "execution_count": 17,
   "metadata": {
    "scrolled": true
   },
   "outputs": [
    {
     "data": {
      "text/plain": [
       "<matplotlib.axes._subplots.AxesSubplot at 0x7fa27bb84eb0>"
      ]
     },
     "execution_count": 17,
     "metadata": {},
     "output_type": "execute_result"
    },
    {
     "data": {
      "image/png": "[encoded data removed]",
      "text/plain": [
       "<Figure size 432x288 with 1 Axes>"
      ]
     },
     "metadata": {
      "needs_background": "light"
     },
     "output_type": "display_data"
    }
   ],
   "source": [
    "sns.boxplot(train_data.Kilometers_Driven)"
   ]
  },
  {
   "cell_type": "code",
   "execution_count": 18,
   "metadata": {
    "scrolled": false
   },
   "outputs": [
    {
     "name": "stdout",
     "output_type": "stream",
     "text": [
      "[[1.73363742 1.10386147 0.16127269 ... 1.0211735  0.35160732        nan]\n",
      " [1.73315963 0.48191971 0.20250012 ... 0.2508771  0.35160732        nan]\n",
      " [1.73268184 0.78670524 0.14382709 ... 0.45020899 0.35160732        nan]\n",
      " ...\n",
      " [1.73036579 0.469549   0.35505001 ... 0.92881709 0.35160732        nan]\n",
      " [1.73084359 0.15239276 0.07034498 ... 0.17164412 0.35160732        nan]\n",
      " [1.73132138 0.16476347 0.16647112 ... 1.06974564 0.35160732        nan]]\n"
     ]
    },
    {
     "name": "stderr",
     "output_type": "stream",
     "text": [
      "<ipython-input-18-d341c789671a>:16: RuntimeWarning: invalid value encountered in greater\n",
      "  np.where(z > threshold)\n"
     ]
    },
    {
     "data": {
      "text/plain": [
       "(array([   7,   14,   60,   67,   70,   70,   76,  121,  130,  130,  143,\n",
       "         147,  147,  180,  215,  221,  264,  266,  303,  314,  324,  328,\n",
       "         346,  352,  379,  405,  426,  443,  443,  473,  480,  489,  527,\n",
       "         540,  559,  568,  568,  571,  571,  584,  595,  597,  605,  611,\n",
       "         672,  672,  672,  686,  743,  746,  749,  765,  773,  773,  773,\n",
       "         789,  789,  834,  885,  890,  933,  936,  942,  967,  979,  984,\n",
       "        1009, 1009, 1017, 1030, 1048, 1063, 1063, 1093, 1149, 1189, 1190,\n",
       "        1192, 1227, 1237, 1255, 1274, 1284, 1296, 1310, 1315, 1315, 1317,\n",
       "        1401, 1422, 1440, 1474, 1480, 1487, 1491, 1553, 1585, 1609, 1613,\n",
       "        1633, 1641, 1651, 1676, 1696, 1719, 1745, 1800, 1814, 1835, 1857,\n",
       "        1861, 1861, 1866, 1870, 1884, 1884, 1923, 1928, 1938, 1975, 1990,\n",
       "        2002, 2011, 2040, 2046, 2046, 2050, 2050, 2076, 2117, 2246, 2256,\n",
       "        2270, 2271, 2278, 2287, 2300, 2311, 2413, 2424, 2450, 2457, 2459,\n",
       "        2479, 2486, 2488, 2498, 2500, 2502, 2505, 2507, 2571, 2583, 2586,\n",
       "        2607, 2607, 2627, 2629, 2688, 2714, 2723, 2747, 2777, 2780, 2806,\n",
       "        2815, 2818, 2829, 2832, 2855, 2859, 2900, 2900, 2910, 2965, 2985,\n",
       "        2996, 3004, 3006, 3011, 3012, 3013, 3031, 3038, 3048, 3051, 3057,\n",
       "        3074, 3118, 3128, 3139, 3146, 3160, 3160, 3169, 3181, 3183, 3188,\n",
       "        3256, 3256, 3347, 3349, 3356, 3395, 3402, 3432, 3455, 3462, 3489,\n",
       "        3652, 3708, 3748, 3755, 3760, 3770, 3806, 3822, 3840, 3861, 3896,\n",
       "        3935, 3957, 4030, 4035, 4037, 4045, 4061, 4078, 4089, 4091, 4095,\n",
       "        4096, 4119, 4126, 4131, 4135, 4138, 4166, 4170, 4194, 4234, 4234,\n",
       "        4235, 4242, 4250, 4271, 4278, 4278, 4302, 4339, 4340, 4340, 4380,\n",
       "        4390, 4404, 4407, 4415, 4448, 4448, 4476, 4514, 4514, 4533, 4544,\n",
       "        4548, 4560, 4573, 4577, 4577, 4577, 4589, 4601, 4604, 4604, 4604,\n",
       "        4612, 4642, 4650, 4655, 4659, 4672, 4687, 4687, 4690, 4697, 4702,\n",
       "        4702, 4703, 4714, 4728, 4743, 4749, 4749, 4772, 4772, 4815, 4815,\n",
       "        4837, 4841, 4844, 4890, 4896, 4914, 4914, 4961, 4961, 5009, 5019,\n",
       "        5050, 5072, 5084, 5122, 5142, 5163, 5163, 5180, 5184, 5187, 5203,\n",
       "        5210, 5210, 5243, 5283, 5285, 5285, 5300, 5320, 5327, 5364, 5381,\n",
       "        5387, 5387, 5396, 5399, 5433, 5466, 5467, 5467, 5493, 5507, 5520,\n",
       "        5579, 5589, 5591, 5627, 5636, 5642, 5642, 5642, 5692, 5695, 5713,\n",
       "        5734, 5744, 5751, 5753, 5772, 5777, 5777, 5777, 5783, 5792, 5794,\n",
       "        5796, 5813, 5825, 5828, 5863, 5866, 5866, 5871, 5874, 5910, 5938,\n",
       "        5943, 5948, 6027, 6031, 6036, 6036, 6044, 6055, 6074, 6089, 6090,\n",
       "        6131, 6135, 6136, 6144, 6157, 6172, 6175, 6201, 6201, 6247, 6285,\n",
       "        6290, 6333, 6380, 6397, 6398, 6406, 6431, 6435, 6436, 6502, 6513,\n",
       "        6535, 6583, 6587, 6614, 6618, 6620, 6622, 6672, 6672, 6672, 6676,\n",
       "        6687, 6705, 6705, 6714, 6747, 6754, 6764, 6778, 6782, 6785, 6785,\n",
       "        6788, 6796, 6802, 6811, 6822, 6836, 6882, 6882, 6921, 6923, 6941,\n",
       "        6962, 6965, 6979, 7009, 7049]),\n",
       " array([6, 3, 6, 3, 4, 5, 6, 6, 5, 6, 5, 4, 5, 6, 1, 3, 1, 6, 1, 5, 1, 2,\n",
       "        2, 1, 5, 5, 6, 4, 5, 1, 1, 5, 3, 6, 1, 4, 5, 4, 5, 6, 1, 6, 6, 6,\n",
       "        4, 5, 6, 3, 6, 6, 6, 6, 4, 5, 6, 1, 6, 6, 1, 6, 3, 6, 1, 3, 6, 6,\n",
       "        4, 5, 6, 3, 6, 4, 5, 5, 6, 1, 6, 1, 3, 3, 6, 3, 1, 3, 6, 4, 5, 3,\n",
       "        6, 1, 6, 6, 6, 6, 6, 4, 1, 6, 6, 6, 6, 6, 6, 5, 3, 1, 1, 2, 6, 1,\n",
       "        1, 6, 6, 1, 4, 5, 6, 5, 5, 6, 6, 6, 3, 5, 5, 6, 4, 5, 6, 6, 6, 6,\n",
       "        6, 2, 1, 6, 6, 3, 6, 1, 5, 6, 1, 5, 1, 6, 6, 6, 6, 6, 6, 6, 1, 5,\n",
       "        3, 4, 3, 6, 6, 6, 6, 2, 6, 6, 6, 6, 5, 5, 6, 6, 6, 4, 5, 6, 3, 4,\n",
       "        6, 6, 6, 6, 2, 3, 6, 3, 3, 5, 1, 6, 1, 3, 1, 1, 4, 5, 6, 6, 5, 3,\n",
       "        4, 5, 1, 6, 6, 6, 5, 5, 6, 3, 4, 1, 1, 6, 1, 6, 3, 6, 1, 1, 1, 6,\n",
       "        4, 5, 4, 3, 1, 6, 6, 5, 6, 6, 6, 6, 6, 3, 6, 1, 6, 6, 6, 3, 4, 5,\n",
       "        1, 6, 5, 6, 4, 5, 3, 6, 4, 5, 2, 6, 6, 6, 6, 4, 5, 6, 4, 5, 6, 1,\n",
       "        6, 1, 3, 4, 5, 6, 3, 6, 4, 5, 6, 1, 1, 3, 6, 5, 1, 1, 6, 6, 5, 4,\n",
       "        5, 1, 6, 6, 1, 4, 5, 5, 6, 4, 5, 6, 6, 6, 3, 3, 1, 6, 4, 5, 1, 6,\n",
       "        3, 6, 6, 6, 1, 5, 6, 3, 6, 6, 6, 4, 5, 3, 4, 4, 5, 1, 1, 5, 6, 6,\n",
       "        4, 5, 6, 5, 1, 6, 4, 5, 6, 1, 1, 1, 6, 4, 6, 5, 4, 5, 6, 6, 6, 6,\n",
       "        3, 4, 1, 1, 1, 4, 5, 6, 1, 3, 6, 6, 1, 6, 3, 5, 3, 4, 6, 3, 6, 6,\n",
       "        3, 6, 3, 6, 4, 5, 1, 3, 6, 6, 6, 6, 6, 6, 1, 6, 6, 6, 4, 5, 6, 1,\n",
       "        6, 3, 3, 6, 6, 6, 6, 6, 6, 6, 6, 5, 1, 6, 6, 3, 6, 6, 4, 5, 6, 5,\n",
       "        3, 1, 6, 6, 2, 6, 1, 6, 3, 5, 6, 6, 6, 6, 1, 6, 6, 4, 5, 6, 6, 5,\n",
       "        1, 6, 5, 1, 3]))"
      ]
     },
     "execution_count": 18,
     "metadata": {},
     "output_type": "execute_result"
    }
   ],
   "source": [
    "#compute z score of only float and integer columns\n",
    "\n",
    "from scipy import stats\n",
    "\n",
    "train_copy = train_data.copy()\n",
    "#drop the columns with non integer columns\n",
    "train_copy = train_copy.drop(columns =[\"Name\", \"Location\", \"Fuel_Type\",'Transmission', \"Owner_Type\", \"New_Price\"]) \n",
    "train_copy\n",
    "#from scipy import stats\n",
    "\n",
    "\n",
    "z = np.abs(stats.zscore(train_copy))\n",
    "print(z)\n",
    "\n",
    "threshold = 3\n",
    "np.where(z > threshold)"
   ]
  },
  {
   "cell_type": "markdown",
   "metadata": {},
   "source": [
    "### Insights from outliers\n",
    "\n",
    "I have identified the outliers of the above dataset, but for this problem, I will not remove or replace these outliers, so that I can later determine the effect of the outliers on the modelling.\n"
   ]
  },
  {
   "cell_type": "code",
   "execution_count": 19,
   "metadata": {},
   "outputs": [
    {
     "name": "stdout",
     "output_type": "stream",
     "text": [
      "<class 'pandas.core.frame.DataFrame'>\n",
      "Int64Index: 1202 entries, 6019 to 7252\n",
      "Data columns (total 14 columns):\n",
      " #   Column             Non-Null Count  Dtype  \n",
      "---  ------             --------------  -----  \n",
      " 0   S.No.              1202 non-null   int64  \n",
      " 1   Name               1202 non-null   object \n",
      " 2   Location           1202 non-null   object \n",
      " 3   Year               1202 non-null   int64  \n",
      " 4   Kilometers_Driven  1202 non-null   int64  \n",
      " 5   Fuel_Type          1202 non-null   object \n",
      " 6   Transmission       1202 non-null   object \n",
      " 7   Owner_Type         1202 non-null   object \n",
      " 8   Mileage            1202 non-null   float64\n",
      " 9   Engine             1202 non-null   int64  \n",
      " 10  Power              1202 non-null   float64\n",
      " 11  Seats              1202 non-null   float64\n",
      " 12  New_Price          182 non-null    object \n",
      " 13  Price              0 non-null      float64\n",
      "dtypes: float64(4), int64(4), object(6)\n",
      "memory usage: 140.9+ KB\n"
     ]
    },
    {
     "data": {
      "text/plain": [
       "Price                1202\n",
       "New_Price            1020\n",
       "Seats                   0\n",
       "Power                   0\n",
       "Engine                  0\n",
       "Mileage                 0\n",
       "Owner_Type              0\n",
       "Transmission            0\n",
       "Fuel_Type               0\n",
       "Kilometers_Driven       0\n",
       "Year                    0\n",
       "Location                0\n",
       "Name                    0\n",
       "S.No.                   0\n",
       "dtype: int64"
      ]
     },
     "execution_count": 19,
     "metadata": {},
     "output_type": "execute_result"
    }
   ],
   "source": [
    "#since there ~10% of the rows have no price, I will move those rows into a test datest, \n",
    "#and keep the rows with the price in a training dataset\n",
    "\n",
    "train_data = train_data.sort_values(\"Price\", na_position='last')\n",
    "train_data\n",
    "test_data = train_data[-1202:]\n",
    "test_data\n",
    "test_data.info()\n",
    "test_data.isnull().sum().sort_values(ascending = False)"
   ]
  },
  {
   "cell_type": "markdown",
   "metadata": {},
   "source": [
    "## Feature Detection\n",
    "\n",
    "Because this dataset only has 14 columns, of which 6 columns (Kilometers driven, mileage, engine, power, seats, and price), I will not group this data yet in the preprocesing step. If in later steps I realize I need to reduce the variables, I will group columns using feature detection then."
   ]
  },
  {
   "cell_type": "code",
   "execution_count": 20,
   "metadata": {},
   "outputs": [
    {
     "name": "stdout",
     "output_type": "stream",
     "text": [
      "<class 'pandas.core.frame.DataFrame'>\n",
      "Int64Index: 5874 entries, 1713 to 4079\n",
      "Data columns (total 14 columns):\n",
      " #   Column             Non-Null Count  Dtype  \n",
      "---  ------             --------------  -----  \n",
      " 0   S.No.              5874 non-null   int64  \n",
      " 1   Name               5874 non-null   object \n",
      " 2   Location           5874 non-null   object \n",
      " 3   Year               5874 non-null   int64  \n",
      " 4   Kilometers_Driven  5874 non-null   int64  \n",
      " 5   Fuel_Type          5874 non-null   object \n",
      " 6   Transmission       5874 non-null   object \n",
      " 7   Owner_Type         5874 non-null   object \n",
      " 8   Mileage            5874 non-null   float64\n",
      " 9   Engine             5874 non-null   int64  \n",
      " 10  Power              5874 non-null   float64\n",
      " 11  Seats              5874 non-null   float64\n",
      " 12  New_Price          823 non-null    object \n",
      " 13  Price              5874 non-null   float64\n",
      "dtypes: float64(4), int64(4), object(6)\n",
      "memory usage: 688.4+ KB\n"
     ]
    },
    {
     "data": {
      "text/plain": [
       "New_Price            5051\n",
       "Price                   0\n",
       "Seats                   0\n",
       "Power                   0\n",
       "Engine                  0\n",
       "Mileage                 0\n",
       "Owner_Type              0\n",
       "Transmission            0\n",
       "Fuel_Type               0\n",
       "Kilometers_Driven       0\n",
       "Year                    0\n",
       "Location                0\n",
       "Name                    0\n",
       "S.No.                   0\n",
       "dtype: int64"
      ]
     },
     "execution_count": 20,
     "metadata": {},
     "output_type": "execute_result"
    }
   ],
   "source": [
    "# #now, I will remove these rows from the train datasert\n",
    "\n",
    "train_data.dropna(subset = [\"Price\"], inplace =True)\n",
    "train_data.info()\n",
    "train_data.isnull().sum().sort_values(ascending = False)"
   ]
  },
  {
   "cell_type": "markdown",
   "metadata": {},
   "source": [
    "###### The data has been processed now. there are no dupliates, all the missing data has been dealt with. Now, we can look into the univariate analysis before further analysis\n"
   ]
  },
  {
   "cell_type": "markdown",
   "metadata": {},
   "source": [
    "## EDA"
   ]
  },
  {
   "cell_type": "code",
   "execution_count": 92,
   "metadata": {
    "scrolled": true
   },
   "outputs": [
    {
     "data": {
      "text/html": [
       "<div>\n",
       "<style scoped>\n",
       "    .dataframe tbody tr th:only-of-type {\n",
       "        vertical-align: middle;\n",
       "    }\n",
       "\n",
       "    .dataframe tbody tr th {\n",
       "        vertical-align: top;\n",
       "    }\n",
       "\n",
       "    .dataframe thead th {\n",
       "        text-align: right;\n",
       "    }\n",
       "</style>\n",
       "<table border=\"1\" class=\"dataframe\">\n",
       "  <thead>\n",
       "    <tr style=\"text-align: right;\">\n",
       "      <th></th>\n",
       "      <th>count</th>\n",
       "      <th>unique</th>\n",
       "      <th>top</th>\n",
       "      <th>freq</th>\n",
       "      <th>mean</th>\n",
       "      <th>std</th>\n",
       "      <th>min</th>\n",
       "      <th>25%</th>\n",
       "      <th>50%</th>\n",
       "      <th>75%</th>\n",
       "      <th>max</th>\n",
       "    </tr>\n",
       "  </thead>\n",
       "  <tbody>\n",
       "    <tr>\n",
       "      <th>S.No.</th>\n",
       "      <td>5874</td>\n",
       "      <td>NaN</td>\n",
       "      <td>NaN</td>\n",
       "      <td>NaN</td>\n",
       "      <td>3012.63</td>\n",
       "      <td>1737.49</td>\n",
       "      <td>0</td>\n",
       "      <td>1509.25</td>\n",
       "      <td>3014.5</td>\n",
       "      <td>4515.75</td>\n",
       "      <td>6018</td>\n",
       "    </tr>\n",
       "    <tr>\n",
       "      <th>Name</th>\n",
       "      <td>5874</td>\n",
       "      <td>1812</td>\n",
       "      <td>Mahindra XUV500 W8 2WD</td>\n",
       "      <td>49</td>\n",
       "      <td>NaN</td>\n",
       "      <td>NaN</td>\n",
       "      <td>NaN</td>\n",
       "      <td>NaN</td>\n",
       "      <td>NaN</td>\n",
       "      <td>NaN</td>\n",
       "      <td>NaN</td>\n",
       "    </tr>\n",
       "    <tr>\n",
       "      <th>Location</th>\n",
       "      <td>5874</td>\n",
       "      <td>11</td>\n",
       "      <td>Mumbai</td>\n",
       "      <td>775</td>\n",
       "      <td>NaN</td>\n",
       "      <td>NaN</td>\n",
       "      <td>NaN</td>\n",
       "      <td>NaN</td>\n",
       "      <td>NaN</td>\n",
       "      <td>NaN</td>\n",
       "      <td>NaN</td>\n",
       "    </tr>\n",
       "    <tr>\n",
       "      <th>Year</th>\n",
       "      <td>5874</td>\n",
       "      <td>NaN</td>\n",
       "      <td>NaN</td>\n",
       "      <td>NaN</td>\n",
       "      <td>2013.48</td>\n",
       "      <td>3.16602</td>\n",
       "      <td>1998</td>\n",
       "      <td>2012</td>\n",
       "      <td>2014</td>\n",
       "      <td>2016</td>\n",
       "      <td>2019</td>\n",
       "    </tr>\n",
       "    <tr>\n",
       "      <th>Kilometers_Driven</th>\n",
       "      <td>5874</td>\n",
       "      <td>NaN</td>\n",
       "      <td>NaN</td>\n",
       "      <td>NaN</td>\n",
       "      <td>58324.1</td>\n",
       "      <td>92154.7</td>\n",
       "      <td>171</td>\n",
       "      <td>33431.2</td>\n",
       "      <td>52621.5</td>\n",
       "      <td>72408.2</td>\n",
       "      <td>6.5e+06</td>\n",
       "    </tr>\n",
       "    <tr>\n",
       "      <th>Fuel_Type</th>\n",
       "      <td>5874</td>\n",
       "      <td>4</td>\n",
       "      <td>Diesel</td>\n",
       "      <td>3153</td>\n",
       "      <td>NaN</td>\n",
       "      <td>NaN</td>\n",
       "      <td>NaN</td>\n",
       "      <td>NaN</td>\n",
       "      <td>NaN</td>\n",
       "      <td>NaN</td>\n",
       "      <td>NaN</td>\n",
       "    </tr>\n",
       "    <tr>\n",
       "      <th>Transmission</th>\n",
       "      <td>5874</td>\n",
       "      <td>2</td>\n",
       "      <td>Manual</td>\n",
       "      <td>4172</td>\n",
       "      <td>NaN</td>\n",
       "      <td>NaN</td>\n",
       "      <td>NaN</td>\n",
       "      <td>NaN</td>\n",
       "      <td>NaN</td>\n",
       "      <td>NaN</td>\n",
       "      <td>NaN</td>\n",
       "    </tr>\n",
       "    <tr>\n",
       "      <th>Owner_Type</th>\n",
       "      <td>5874</td>\n",
       "      <td>4</td>\n",
       "      <td>First</td>\n",
       "      <td>4840</td>\n",
       "      <td>NaN</td>\n",
       "      <td>NaN</td>\n",
       "      <td>NaN</td>\n",
       "      <td>NaN</td>\n",
       "      <td>NaN</td>\n",
       "      <td>NaN</td>\n",
       "      <td>NaN</td>\n",
       "    </tr>\n",
       "    <tr>\n",
       "      <th>Mileage</th>\n",
       "      <td>5874</td>\n",
       "      <td>NaN</td>\n",
       "      <td>NaN</td>\n",
       "      <td>NaN</td>\n",
       "      <td>6.65302e-16</td>\n",
       "      <td>1.00009</td>\n",
       "      <td>-4.18013</td>\n",
       "      <td>-0.689412</td>\n",
       "      <td>-0.0168883</td>\n",
       "      <td>0.646485</td>\n",
       "      <td>3.49213</td>\n",
       "    </tr>\n",
       "    <tr>\n",
       "      <th>Engine</th>\n",
       "      <td>5874</td>\n",
       "      <td>NaN</td>\n",
       "      <td>NaN</td>\n",
       "      <td>NaN</td>\n",
       "      <td>-9.07797e-15</td>\n",
       "      <td>1.00009</td>\n",
       "      <td>-1.66536</td>\n",
       "      <td>-0.711066</td>\n",
       "      <td>-0.216463</td>\n",
       "      <td>0.60732</td>\n",
       "      <td>7.26908</td>\n",
       "    </tr>\n",
       "    <tr>\n",
       "      <th>Power</th>\n",
       "      <td>5874</td>\n",
       "      <td>NaN</td>\n",
       "      <td>NaN</td>\n",
       "      <td>NaN</td>\n",
       "      <td>-6.22133e-16</td>\n",
       "      <td>1.00009</td>\n",
       "      <td>-1.46787</td>\n",
       "      <td>-0.710472</td>\n",
       "      <td>-0.289077</td>\n",
       "      <td>0.460894</td>\n",
       "      <td>8.2929</td>\n",
       "    </tr>\n",
       "    <tr>\n",
       "      <th>Seats</th>\n",
       "      <td>5874</td>\n",
       "      <td>NaN</td>\n",
       "      <td>NaN</td>\n",
       "      <td>NaN</td>\n",
       "      <td>7.34148e-15</td>\n",
       "      <td>1.00009</td>\n",
       "      <td>-4.07958</td>\n",
       "      <td>-0.352373</td>\n",
       "      <td>-0.352373</td>\n",
       "      <td>-0.352373</td>\n",
       "      <td>5.85963</td>\n",
       "    </tr>\n",
       "    <tr>\n",
       "      <th>New_Price</th>\n",
       "      <td>823</td>\n",
       "      <td>540</td>\n",
       "      <td>63.71 Lakh</td>\n",
       "      <td>6</td>\n",
       "      <td>NaN</td>\n",
       "      <td>NaN</td>\n",
       "      <td>NaN</td>\n",
       "      <td>NaN</td>\n",
       "      <td>NaN</td>\n",
       "      <td>NaN</td>\n",
       "      <td>NaN</td>\n",
       "    </tr>\n",
       "    <tr>\n",
       "      <th>Price</th>\n",
       "      <td>5874</td>\n",
       "      <td>NaN</td>\n",
       "      <td>NaN</td>\n",
       "      <td>NaN</td>\n",
       "      <td>-2.22876e-15</td>\n",
       "      <td>1.00009</td>\n",
       "      <td>-0.814554</td>\n",
       "      <td>-0.541378</td>\n",
       "      <td>-0.342441</td>\n",
       "      <td>0.0354261</td>\n",
       "      <td>13.3719</td>\n",
       "    </tr>\n",
       "    <tr>\n",
       "      <th>arcsinh_km</th>\n",
       "      <td>5874</td>\n",
       "      <td>NaN</td>\n",
       "      <td>NaN</td>\n",
       "      <td>NaN</td>\n",
       "      <td>11.4432</td>\n",
       "      <td>0.717954</td>\n",
       "      <td>5.83482</td>\n",
       "      <td>11.1104</td>\n",
       "      <td>11.564</td>\n",
       "      <td>11.8832</td>\n",
       "      <td>16.3805</td>\n",
       "    </tr>\n",
       "  </tbody>\n",
       "</table>\n",
       "</div>"
      ],
      "text/plain": [
       "                  count unique                     top  freq         mean  \\\n",
       "S.No.              5874    NaN                     NaN   NaN      3012.63   \n",
       "Name               5874   1812  Mahindra XUV500 W8 2WD    49          NaN   \n",
       "Location           5874     11                  Mumbai   775          NaN   \n",
       "Year               5874    NaN                     NaN   NaN      2013.48   \n",
       "Kilometers_Driven  5874    NaN                     NaN   NaN      58324.1   \n",
       "Fuel_Type          5874      4                  Diesel  3153          NaN   \n",
       "Transmission       5874      2                  Manual  4172          NaN   \n",
       "Owner_Type         5874      4                   First  4840          NaN   \n",
       "Mileage            5874    NaN                     NaN   NaN  6.65302e-16   \n",
       "Engine             5874    NaN                     NaN   NaN -9.07797e-15   \n",
       "Power              5874    NaN                     NaN   NaN -6.22133e-16   \n",
       "Seats              5874    NaN                     NaN   NaN  7.34148e-15   \n",
       "New_Price           823    540              63.71 Lakh     6          NaN   \n",
       "Price              5874    NaN                     NaN   NaN -2.22876e-15   \n",
       "arcsinh_km         5874    NaN                     NaN   NaN      11.4432   \n",
       "\n",
       "                        std       min       25%        50%        75%      max  \n",
       "S.No.               1737.49         0   1509.25     3014.5    4515.75     6018  \n",
       "Name                    NaN       NaN       NaN        NaN        NaN      NaN  \n",
       "Location                NaN       NaN       NaN        NaN        NaN      NaN  \n",
       "Year                3.16602      1998      2012       2014       2016     2019  \n",
       "Kilometers_Driven   92154.7       171   33431.2    52621.5    72408.2  6.5e+06  \n",
       "Fuel_Type               NaN       NaN       NaN        NaN        NaN      NaN  \n",
       "Transmission            NaN       NaN       NaN        NaN        NaN      NaN  \n",
       "Owner_Type              NaN       NaN       NaN        NaN        NaN      NaN  \n",
       "Mileage             1.00009  -4.18013 -0.689412 -0.0168883   0.646485  3.49213  \n",
       "Engine              1.00009  -1.66536 -0.711066  -0.216463    0.60732  7.26908  \n",
       "Power               1.00009  -1.46787 -0.710472  -0.289077   0.460894   8.2929  \n",
       "Seats               1.00009  -4.07958 -0.352373  -0.352373  -0.352373  5.85963  \n",
       "New_Price               NaN       NaN       NaN        NaN        NaN      NaN  \n",
       "Price               1.00009 -0.814554 -0.541378  -0.342441  0.0354261  13.3719  \n",
       "arcsinh_km         0.717954   5.83482   11.1104     11.564    11.8832  16.3805  "
      ]
     },
     "execution_count": 92,
     "metadata": {},
     "output_type": "execute_result"
    }
   ],
   "source": [
    "train_data.describe(include='all').T\n"
   ]
  },
  {
   "cell_type": "code",
   "execution_count": 22,
   "metadata": {},
   "outputs": [
    {
     "data": {
      "text/html": [
       "<div>\n",
       "<style scoped>\n",
       "    .dataframe tbody tr th:only-of-type {\n",
       "        vertical-align: middle;\n",
       "    }\n",
       "\n",
       "    .dataframe tbody tr th {\n",
       "        vertical-align: top;\n",
       "    }\n",
       "\n",
       "    .dataframe thead th {\n",
       "        text-align: right;\n",
       "    }\n",
       "</style>\n",
       "<table border=\"1\" class=\"dataframe\">\n",
       "  <thead>\n",
       "    <tr style=\"text-align: right;\">\n",
       "      <th></th>\n",
       "      <th>S.No.</th>\n",
       "      <th>Name</th>\n",
       "      <th>Location</th>\n",
       "      <th>Year</th>\n",
       "      <th>Kilometers_Driven</th>\n",
       "      <th>Fuel_Type</th>\n",
       "      <th>Transmission</th>\n",
       "      <th>Owner_Type</th>\n",
       "      <th>Mileage</th>\n",
       "      <th>Engine</th>\n",
       "      <th>Power</th>\n",
       "      <th>Seats</th>\n",
       "      <th>New_Price</th>\n",
       "      <th>Price</th>\n",
       "    </tr>\n",
       "  </thead>\n",
       "  <tbody>\n",
       "    <tr>\n",
       "      <th>1713</th>\n",
       "      <td>1713</td>\n",
       "      <td>Tata Nano Lx</td>\n",
       "      <td>Pune</td>\n",
       "      <td>2011</td>\n",
       "      <td>65000</td>\n",
       "      <td>Petrol</td>\n",
       "      <td>Manual</td>\n",
       "      <td>Second</td>\n",
       "      <td>26.00</td>\n",
       "      <td>624</td>\n",
       "      <td>35.0</td>\n",
       "      <td>4.0</td>\n",
       "      <td>NaN</td>\n",
       "      <td>0.44</td>\n",
       "    </tr>\n",
       "    <tr>\n",
       "      <th>3138</th>\n",
       "      <td>3138</td>\n",
       "      <td>Maruti Zen LXI</td>\n",
       "      <td>Jaipur</td>\n",
       "      <td>1998</td>\n",
       "      <td>95150</td>\n",
       "      <td>Petrol</td>\n",
       "      <td>Manual</td>\n",
       "      <td>Third</td>\n",
       "      <td>17.30</td>\n",
       "      <td>993</td>\n",
       "      <td>60.0</td>\n",
       "      <td>5.0</td>\n",
       "      <td>NaN</td>\n",
       "      <td>0.45</td>\n",
       "    </tr>\n",
       "    <tr>\n",
       "      <th>2847</th>\n",
       "      <td>2847</td>\n",
       "      <td>Hyundai Getz GLS</td>\n",
       "      <td>Pune</td>\n",
       "      <td>2005</td>\n",
       "      <td>86000</td>\n",
       "      <td>Petrol</td>\n",
       "      <td>Manual</td>\n",
       "      <td>Second</td>\n",
       "      <td>15.30</td>\n",
       "      <td>1341</td>\n",
       "      <td>83.0</td>\n",
       "      <td>5.0</td>\n",
       "      <td>NaN</td>\n",
       "      <td>0.45</td>\n",
       "    </tr>\n",
       "    <tr>\n",
       "      <th>1628</th>\n",
       "      <td>1628</td>\n",
       "      <td>Maruti 800 Std BSIII</td>\n",
       "      <td>Jaipur</td>\n",
       "      <td>2004</td>\n",
       "      <td>12000</td>\n",
       "      <td>Petrol</td>\n",
       "      <td>Manual</td>\n",
       "      <td>Second</td>\n",
       "      <td>16.10</td>\n",
       "      <td>796</td>\n",
       "      <td>37.0</td>\n",
       "      <td>4.0</td>\n",
       "      <td>NaN</td>\n",
       "      <td>0.45</td>\n",
       "    </tr>\n",
       "    <tr>\n",
       "      <th>3228</th>\n",
       "      <td>3228</td>\n",
       "      <td>Maruti 800 Std</td>\n",
       "      <td>Pune</td>\n",
       "      <td>2003</td>\n",
       "      <td>52000</td>\n",
       "      <td>Petrol</td>\n",
       "      <td>Manual</td>\n",
       "      <td>First</td>\n",
       "      <td>16.10</td>\n",
       "      <td>796</td>\n",
       "      <td>37.0</td>\n",
       "      <td>4.0</td>\n",
       "      <td>NaN</td>\n",
       "      <td>0.50</td>\n",
       "    </tr>\n",
       "    <tr>\n",
       "      <th>...</th>\n",
       "      <td>...</td>\n",
       "      <td>...</td>\n",
       "      <td>...</td>\n",
       "      <td>...</td>\n",
       "      <td>...</td>\n",
       "      <td>...</td>\n",
       "      <td>...</td>\n",
       "      <td>...</td>\n",
       "      <td>...</td>\n",
       "      <td>...</td>\n",
       "      <td>...</td>\n",
       "      <td>...</td>\n",
       "      <td>...</td>\n",
       "      <td>...</td>\n",
       "    </tr>\n",
       "    <tr>\n",
       "      <th>1974</th>\n",
       "      <td>1974</td>\n",
       "      <td>BMW 7 Series 740Li</td>\n",
       "      <td>Coimbatore</td>\n",
       "      <td>2018</td>\n",
       "      <td>28060</td>\n",
       "      <td>Petrol</td>\n",
       "      <td>Automatic</td>\n",
       "      <td>First</td>\n",
       "      <td>12.05</td>\n",
       "      <td>2979</td>\n",
       "      <td>320.0</td>\n",
       "      <td>5.0</td>\n",
       "      <td>NaN</td>\n",
       "      <td>93.67</td>\n",
       "    </tr>\n",
       "    <tr>\n",
       "      <th>1505</th>\n",
       "      <td>1505</td>\n",
       "      <td>Land Rover Range Rover Sport SE</td>\n",
       "      <td>Kochi</td>\n",
       "      <td>2019</td>\n",
       "      <td>26013</td>\n",
       "      <td>Diesel</td>\n",
       "      <td>Automatic</td>\n",
       "      <td>First</td>\n",
       "      <td>12.65</td>\n",
       "      <td>2993</td>\n",
       "      <td>255.0</td>\n",
       "      <td>5.0</td>\n",
       "      <td>1.39 Cr</td>\n",
       "      <td>97.07</td>\n",
       "    </tr>\n",
       "    <tr>\n",
       "      <th>5919</th>\n",
       "      <td>5919</td>\n",
       "      <td>Jaguar F Type 5.0 V8 S</td>\n",
       "      <td>Hyderabad</td>\n",
       "      <td>2015</td>\n",
       "      <td>8000</td>\n",
       "      <td>Petrol</td>\n",
       "      <td>Automatic</td>\n",
       "      <td>First</td>\n",
       "      <td>12.50</td>\n",
       "      <td>5000</td>\n",
       "      <td>488.1</td>\n",
       "      <td>2.0</td>\n",
       "      <td>NaN</td>\n",
       "      <td>100.00</td>\n",
       "    </tr>\n",
       "    <tr>\n",
       "      <th>5781</th>\n",
       "      <td>5781</td>\n",
       "      <td>Lamborghini Gallardo Coupe</td>\n",
       "      <td>Delhi</td>\n",
       "      <td>2011</td>\n",
       "      <td>6500</td>\n",
       "      <td>Petrol</td>\n",
       "      <td>Automatic</td>\n",
       "      <td>Third</td>\n",
       "      <td>6.40</td>\n",
       "      <td>5204</td>\n",
       "      <td>560.0</td>\n",
       "      <td>2.0</td>\n",
       "      <td>NaN</td>\n",
       "      <td>120.00</td>\n",
       "    </tr>\n",
       "    <tr>\n",
       "      <th>4079</th>\n",
       "      <td>4079</td>\n",
       "      <td>Land Rover Range Rover 3.0 Diesel LWB Vogue</td>\n",
       "      <td>Hyderabad</td>\n",
       "      <td>2017</td>\n",
       "      <td>25000</td>\n",
       "      <td>Diesel</td>\n",
       "      <td>Automatic</td>\n",
       "      <td>First</td>\n",
       "      <td>13.33</td>\n",
       "      <td>2993</td>\n",
       "      <td>255.0</td>\n",
       "      <td>5.0</td>\n",
       "      <td>2.3 Cr</td>\n",
       "      <td>160.00</td>\n",
       "    </tr>\n",
       "  </tbody>\n",
       "</table>\n",
       "<p>5874 rows × 14 columns</p>\n",
       "</div>"
      ],
      "text/plain": [
       "      S.No.                                         Name    Location  Year  \\\n",
       "1713   1713                                 Tata Nano Lx        Pune  2011   \n",
       "3138   3138                               Maruti Zen LXI      Jaipur  1998   \n",
       "2847   2847                             Hyundai Getz GLS        Pune  2005   \n",
       "1628   1628                         Maruti 800 Std BSIII      Jaipur  2004   \n",
       "3228   3228                               Maruti 800 Std        Pune  2003   \n",
       "...     ...                                          ...         ...   ...   \n",
       "1974   1974                           BMW 7 Series 740Li  Coimbatore  2018   \n",
       "1505   1505              Land Rover Range Rover Sport SE       Kochi  2019   \n",
       "5919   5919                       Jaguar F Type 5.0 V8 S   Hyderabad  2015   \n",
       "5781   5781                   Lamborghini Gallardo Coupe       Delhi  2011   \n",
       "4079   4079  Land Rover Range Rover 3.0 Diesel LWB Vogue   Hyderabad  2017   \n",
       "\n",
       "      Kilometers_Driven Fuel_Type Transmission Owner_Type  Mileage  Engine  \\\n",
       "1713              65000    Petrol       Manual     Second    26.00     624   \n",
       "3138              95150    Petrol       Manual      Third    17.30     993   \n",
       "2847              86000    Petrol       Manual     Second    15.30    1341   \n",
       "1628              12000    Petrol       Manual     Second    16.10     796   \n",
       "3228              52000    Petrol       Manual      First    16.10     796   \n",
       "...                 ...       ...          ...        ...      ...     ...   \n",
       "1974              28060    Petrol    Automatic      First    12.05    2979   \n",
       "1505              26013    Diesel    Automatic      First    12.65    2993   \n",
       "5919               8000    Petrol    Automatic      First    12.50    5000   \n",
       "5781               6500    Petrol    Automatic      Third     6.40    5204   \n",
       "4079              25000    Diesel    Automatic      First    13.33    2993   \n",
       "\n",
       "      Power  Seats New_Price   Price  \n",
       "1713   35.0    4.0       NaN    0.44  \n",
       "3138   60.0    5.0       NaN    0.45  \n",
       "2847   83.0    5.0       NaN    0.45  \n",
       "1628   37.0    4.0       NaN    0.45  \n",
       "3228   37.0    4.0       NaN    0.50  \n",
       "...     ...    ...       ...     ...  \n",
       "1974  320.0    5.0       NaN   93.67  \n",
       "1505  255.0    5.0   1.39 Cr   97.07  \n",
       "5919  488.1    2.0       NaN  100.00  \n",
       "5781  560.0    2.0       NaN  120.00  \n",
       "4079  255.0    5.0    2.3 Cr  160.00  \n",
       "\n",
       "[5874 rows x 14 columns]"
      ]
     },
     "execution_count": 22,
     "metadata": {},
     "output_type": "execute_result"
    }
   ],
   "source": [
    "train_copy = train_data.copy()\n",
    "train_copy"
   ]
  },
  {
   "cell_type": "markdown",
   "metadata": {},
   "source": [
    "### Insights from EDA and outliers:\n",
    "- the data does not look too skewed\n",
    "- there are no glaring outliers, but I will need to confirm with univariate analysis\n",
    "- the cars in this dataset were made between the years 1998-2019\n",
    "- the most common location was \"Mumbai\"\n",
    "- the most common fuel was diesal"
   ]
  },
  {
   "cell_type": "markdown",
   "metadata": {},
   "source": [
    "## Univariate Analysis"
   ]
  },
  {
   "cell_type": "code",
   "execution_count": 23,
   "metadata": {},
   "outputs": [],
   "source": [
    "from sklearn.preprocessing import StandardScaler, MinMaxScaler\n",
    "\n",
    "std_scaler = StandardScaler()"
   ]
  },
  {
   "cell_type": "code",
   "execution_count": 24,
   "metadata": {
    "scrolled": true
   },
   "outputs": [
    {
     "data": {
      "image/png": "[encoded data removed]",
      "text/plain": [
       "<Figure size 432x288 with 1 Axes>"
      ]
     },
     "metadata": {
      "needs_background": "light"
     },
     "output_type": "display_data"
    },
    {
     "data": {
      "image/png": "[encoded data removed]",
      "text/plain": [
       "<Figure size 432x288 with 1 Axes>"
      ]
     },
     "metadata": {
      "needs_background": "light"
     },
     "output_type": "display_data"
    }
   ],
   "source": [
    "train_data['Price'].hist(bins=10)\n",
    "plt.title('Price before z transformation')\n",
    "plt.show()\n",
    "\n",
    "train_data['Price'] = std_scaler.fit_transform(train_data[['Price']])\n",
    "train_data['Price'].hist(bins=20)\n",
    "plt.title('Price after z transformation')\n",
    "plt.show()"
   ]
  },
  {
   "cell_type": "code",
   "execution_count": 25,
   "metadata": {},
   "outputs": [
    {
     "data": {
      "image/png": "[encoded data removed]",
      "text/plain": [
       "<Figure size 432x288 with 1 Axes>"
      ]
     },
     "metadata": {
      "needs_background": "light"
     },
     "output_type": "display_data"
    },
    {
     "data": {
      "image/png": "[encoded data removed]",
      "text/plain": [
       "<Figure size 432x288 with 1 Axes>"
      ]
     },
     "metadata": {
      "needs_background": "light"
     },
     "output_type": "display_data"
    }
   ],
   "source": [
    "train_data['Seats'].hist(bins=10)\n",
    "plt.title('Seats before z transformation')\n",
    "plt.show()\n",
    "\n",
    "train_data['Seats'] = std_scaler.fit_transform(train_data[['Seats']])\n",
    "train_data['Seats'].hist(bins=20)\n",
    "plt.title('Seats after z transformation')\n",
    "plt.show()"
   ]
  },
  {
   "cell_type": "code",
   "execution_count": 26,
   "metadata": {},
   "outputs": [
    {
     "data": {
      "image/png": "[encoded data removed]",
      "text/plain": [
       "<Figure size 432x288 with 1 Axes>"
      ]
     },
     "metadata": {
      "needs_background": "light"
     },
     "output_type": "display_data"
    },
    {
     "data": {
      "image/png": "[encoded data removed]",
      "text/plain": [
       "<Figure size 432x288 with 1 Axes>"
      ]
     },
     "metadata": {
      "needs_background": "light"
     },
     "output_type": "display_data"
    }
   ],
   "source": [
    "train_data['Power'].hist(bins=10)\n",
    "plt.title('Power before z transformation')\n",
    "plt.show()\n",
    "\n",
    "train_data['Power'] = std_scaler.fit_transform(train_data[['Power']])\n",
    "train_data['Power'].hist(bins=20)\n",
    "plt.title('Power after z transformation')\n",
    "plt.show()"
   ]
  },
  {
   "cell_type": "code",
   "execution_count": 27,
   "metadata": {},
   "outputs": [
    {
     "data": {
      "image/png": "[encoded data removed]",
      "text/plain": [
       "<Figure size 432x288 with 1 Axes>"
      ]
     },
     "metadata": {
      "needs_background": "light"
     },
     "output_type": "display_data"
    },
    {
     "data": {
      "image/png": "[encoded data removed]",
      "text/plain": [
       "<Figure size 432x288 with 1 Axes>"
      ]
     },
     "metadata": {
      "needs_background": "light"
     },
     "output_type": "display_data"
    }
   ],
   "source": [
    "train_data['Mileage'].hist(bins=10)\n",
    "plt.title('Mileage before z transformation')\n",
    "plt.show()\n",
    "\n",
    "train_data['Mileage'] = std_scaler.fit_transform(train_data[['Mileage']])\n",
    "train_data['Mileage'].hist(bins=20)\n",
    "plt.title('Mileage after z transformation')\n",
    "plt.show()"
   ]
  },
  {
   "cell_type": "code",
   "execution_count": 28,
   "metadata": {},
   "outputs": [
    {
     "data": {
      "image/png": "[encoded data removed]",
      "text/plain": [
       "<Figure size 432x288 with 1 Axes>"
      ]
     },
     "metadata": {
      "needs_background": "light"
     },
     "output_type": "display_data"
    },
    {
     "data": {
      "image/png": "[encoded data removed]",
      "text/plain": [
       "<Figure size 432x288 with 1 Axes>"
      ]
     },
     "metadata": {
      "needs_background": "light"
     },
     "output_type": "display_data"
    }
   ],
   "source": [
    "train_data['Engine'].hist(bins=10)\n",
    "plt.title('Engine before z transformation')\n",
    "plt.show()\n",
    "\n",
    "train_data['Engine'] = std_scaler.fit_transform(train_data[['Engine']])\n",
    "train_data['Engine'].hist(bins=20)\n",
    "plt.title('Engine after z transformation')\n",
    "plt.show()"
   ]
  },
  {
   "cell_type": "code",
   "execution_count": 38,
   "metadata": {},
   "outputs": [
    {
     "data": {
      "image/png": "[encoded data removed]",
      "text/plain": [
       "<Figure size 432x288 with 1 Axes>"
      ]
     },
     "metadata": {
      "needs_background": "light"
     },
     "output_type": "display_data"
    },
    {
     "data": {
      "image/png": "[encoded data removed]",
      "text/plain": [
       "<Figure size 432x288 with 1 Axes>"
      ]
     },
     "metadata": {
      "needs_background": "light"
     },
     "output_type": "display_data"
    }
   ],
   "source": [
    "train_data['Kilometers_Driven'].hist(bins=10)\n",
    "plt.title('km before z transformation')\n",
    "plt.show()\n",
    "\n",
    "train_data['arcsinh_km'] = np.arcsinh(train_data[('Kilometers_Driven')])\n",
    "#arcsinh was chosen to include 0 values (unlike log)\n",
    "\n",
    "#train_data['arcsinh_Km'] = std_scaler.fit_transform(train_data[['arcsinh_Km']])\n",
    "train_data[('arcsinh_km')].hist(bins=20)\n",
    "plt.title('Kilometers_Driven after arcsinh transformation')\n",
    "plt.show()"
   ]
  },
  {
   "cell_type": "markdown",
   "metadata": {},
   "source": [
    "# Insights from univariate analysis:\n",
    "\n",
    "- Price is skewed right\n",
    "- Seats are slightly skewed left\n",
    "- Power is skewed right\n",
    "- Mileage is skewed slightly left\n",
    "- Engine is skewed slightly right\n",
    "- km driven will be transformed via hyperbolic sine funciton to make it more gaussian "
   ]
  },
  {
   "cell_type": "markdown",
   "metadata": {},
   "source": [
    "# Bivariate Analysis"
   ]
  },
  {
   "cell_type": "code",
   "execution_count": 39,
   "metadata": {},
   "outputs": [
    {
     "data": {
      "text/plain": [
       "<function matplotlib.pyplot.show(*args, **kw)>"
      ]
     },
     "execution_count": 39,
     "metadata": {},
     "output_type": "execute_result"
    },
    {
     "data": {
      "image/png": "[encoded data removed]",
      "text/plain": [
       "<Figure size 432x288 with 1 Axes>"
      ]
     },
     "metadata": {
      "needs_background": "light"
     },
     "output_type": "display_data"
    }
   ],
   "source": [
    "##Look at km vs price\n",
    "\n",
    "sns.scatterplot(y=train_copy[\"Price\"], x=np.arcsinh(train_copy[\"Kilometers_Driven\"]))\n",
    "plt.show"
   ]
  },
  {
   "cell_type": "code",
   "execution_count": 31,
   "metadata": {},
   "outputs": [
    {
     "data": {
      "text/plain": [
       "<function matplotlib.pyplot.show(*args, **kw)>"
      ]
     },
     "execution_count": 31,
     "metadata": {},
     "output_type": "execute_result"
    },
    {
     "data": {
      "image/png": "[encoded data removed]",
      "text/plain": [
       "<Figure size 432x288 with 1 Axes>"
      ]
     },
     "metadata": {
      "needs_background": "light"
     },
     "output_type": "display_data"
    }
   ],
   "source": [
    "sns.scatterplot(x=train_copy[\"Seats\"], y=train_copy[\"Price\"], hue =train_copy[\"Fuel_Type\"] )\n",
    "plt.show"
   ]
  },
  {
   "cell_type": "code",
   "execution_count": 32,
   "metadata": {},
   "outputs": [
    {
     "data": {
      "text/plain": [
       "<function matplotlib.pyplot.show(*args, **kw)>"
      ]
     },
     "execution_count": 32,
     "metadata": {},
     "output_type": "execute_result"
    },
    {
     "data": {
      "image/png": "[encoded data removed]",
      "text/plain": [
       "<Figure size 432x288 with 1 Axes>"
      ]
     },
     "metadata": {
      "needs_background": "light"
     },
     "output_type": "display_data"
    }
   ],
   "source": [
    "sns.scatterplot(x=train_copy[\"Power\"], y=train_copy[\"Price\"], hue =train_copy[\"Transmission\"] )\n",
    "plt.show"
   ]
  },
  {
   "cell_type": "code",
   "execution_count": 33,
   "metadata": {},
   "outputs": [
    {
     "data": {
      "text/plain": [
       "<function matplotlib.pyplot.show(*args, **kw)>"
      ]
     },
     "execution_count": 33,
     "metadata": {},
     "output_type": "execute_result"
    },
    {
     "data": {
      "image/png": "[encoded data removed]",
      "text/plain": [
       "<Figure size 432x288 with 1 Axes>"
      ]
     },
     "metadata": {
      "needs_background": "light"
     },
     "output_type": "display_data"
    }
   ],
   "source": [
    "sns.scatterplot(x=train_copy[\"Mileage\"], y=train_copy[\"Price\"], hue =train_copy[\"Owner_Type\"] )\n",
    "plt.show"
   ]
  },
  {
   "cell_type": "code",
   "execution_count": 34,
   "metadata": {},
   "outputs": [
    {
     "data": {
      "text/html": [
       "<div>\n",
       "<style scoped>\n",
       "    .dataframe tbody tr th:only-of-type {\n",
       "        vertical-align: middle;\n",
       "    }\n",
       "\n",
       "    .dataframe tbody tr th {\n",
       "        vertical-align: top;\n",
       "    }\n",
       "\n",
       "    .dataframe thead th {\n",
       "        text-align: right;\n",
       "    }\n",
       "</style>\n",
       "<table border=\"1\" class=\"dataframe\">\n",
       "  <thead>\n",
       "    <tr style=\"text-align: right;\">\n",
       "      <th></th>\n",
       "      <th>Year</th>\n",
       "      <th>Kilometers_Driven</th>\n",
       "      <th>Mileage</th>\n",
       "      <th>Engine</th>\n",
       "      <th>Power</th>\n",
       "      <th>Seats</th>\n",
       "      <th>Price</th>\n",
       "    </tr>\n",
       "  </thead>\n",
       "  <tbody>\n",
       "    <tr>\n",
       "      <th>1713</th>\n",
       "      <td>2011</td>\n",
       "      <td>11.775290</td>\n",
       "      <td>26.00</td>\n",
       "      <td>624</td>\n",
       "      <td>35.0</td>\n",
       "      <td>4.0</td>\n",
       "      <td>0.44</td>\n",
       "    </tr>\n",
       "    <tr>\n",
       "      <th>3138</th>\n",
       "      <td>1998</td>\n",
       "      <td>12.156357</td>\n",
       "      <td>17.30</td>\n",
       "      <td>993</td>\n",
       "      <td>60.0</td>\n",
       "      <td>5.0</td>\n",
       "      <td>0.45</td>\n",
       "    </tr>\n",
       "    <tr>\n",
       "      <th>2847</th>\n",
       "      <td>2005</td>\n",
       "      <td>12.055250</td>\n",
       "      <td>15.30</td>\n",
       "      <td>1341</td>\n",
       "      <td>83.0</td>\n",
       "      <td>5.0</td>\n",
       "      <td>0.45</td>\n",
       "    </tr>\n",
       "    <tr>\n",
       "      <th>1628</th>\n",
       "      <td>2004</td>\n",
       "      <td>10.085809</td>\n",
       "      <td>16.10</td>\n",
       "      <td>796</td>\n",
       "      <td>37.0</td>\n",
       "      <td>4.0</td>\n",
       "      <td>0.45</td>\n",
       "    </tr>\n",
       "    <tr>\n",
       "      <th>3228</th>\n",
       "      <td>2003</td>\n",
       "      <td>11.552146</td>\n",
       "      <td>16.10</td>\n",
       "      <td>796</td>\n",
       "      <td>37.0</td>\n",
       "      <td>4.0</td>\n",
       "      <td>0.50</td>\n",
       "    </tr>\n",
       "    <tr>\n",
       "      <th>...</th>\n",
       "      <td>...</td>\n",
       "      <td>...</td>\n",
       "      <td>...</td>\n",
       "      <td>...</td>\n",
       "      <td>...</td>\n",
       "      <td>...</td>\n",
       "      <td>...</td>\n",
       "    </tr>\n",
       "    <tr>\n",
       "      <th>1974</th>\n",
       "      <td>2018</td>\n",
       "      <td>10.935248</td>\n",
       "      <td>12.05</td>\n",
       "      <td>2979</td>\n",
       "      <td>320.0</td>\n",
       "      <td>5.0</td>\n",
       "      <td>93.67</td>\n",
       "    </tr>\n",
       "    <tr>\n",
       "      <th>1505</th>\n",
       "      <td>2019</td>\n",
       "      <td>10.859499</td>\n",
       "      <td>12.65</td>\n",
       "      <td>2993</td>\n",
       "      <td>255.0</td>\n",
       "      <td>5.0</td>\n",
       "      <td>97.07</td>\n",
       "    </tr>\n",
       "    <tr>\n",
       "      <th>5919</th>\n",
       "      <td>2015</td>\n",
       "      <td>9.680344</td>\n",
       "      <td>12.50</td>\n",
       "      <td>5000</td>\n",
       "      <td>488.1</td>\n",
       "      <td>2.0</td>\n",
       "      <td>100.00</td>\n",
       "    </tr>\n",
       "    <tr>\n",
       "      <th>5781</th>\n",
       "      <td>2011</td>\n",
       "      <td>9.472705</td>\n",
       "      <td>6.40</td>\n",
       "      <td>5204</td>\n",
       "      <td>560.0</td>\n",
       "      <td>2.0</td>\n",
       "      <td>120.00</td>\n",
       "    </tr>\n",
       "    <tr>\n",
       "      <th>4079</th>\n",
       "      <td>2017</td>\n",
       "      <td>10.819778</td>\n",
       "      <td>13.33</td>\n",
       "      <td>2993</td>\n",
       "      <td>255.0</td>\n",
       "      <td>5.0</td>\n",
       "      <td>160.00</td>\n",
       "    </tr>\n",
       "  </tbody>\n",
       "</table>\n",
       "<p>5874 rows × 7 columns</p>\n",
       "</div>"
      ],
      "text/plain": [
       "      Year  Kilometers_Driven  Mileage  Engine  Power  Seats   Price\n",
       "1713  2011          11.775290    26.00     624   35.0    4.0    0.44\n",
       "3138  1998          12.156357    17.30     993   60.0    5.0    0.45\n",
       "2847  2005          12.055250    15.30    1341   83.0    5.0    0.45\n",
       "1628  2004          10.085809    16.10     796   37.0    4.0    0.45\n",
       "3228  2003          11.552146    16.10     796   37.0    4.0    0.50\n",
       "...    ...                ...      ...     ...    ...    ...     ...\n",
       "1974  2018          10.935248    12.05    2979  320.0    5.0   93.67\n",
       "1505  2019          10.859499    12.65    2993  255.0    5.0   97.07\n",
       "5919  2015           9.680344    12.50    5000  488.1    2.0  100.00\n",
       "5781  2011           9.472705     6.40    5204  560.0    2.0  120.00\n",
       "4079  2017          10.819778    13.33    2993  255.0    5.0  160.00\n",
       "\n",
       "[5874 rows x 7 columns]"
      ]
     },
     "execution_count": 34,
     "metadata": {},
     "output_type": "execute_result"
    }
   ],
   "source": [
    "# I will first look at correlations between the variables\n",
    "train_copy2 = train_copy.drop([\"S.No.\", \"Location\", \"Name\", \"Fuel_Type\", \"Transmission\", \"Owner_Type\", \"New_Price\"], axis=1)\n",
    "train_copy2[\"Kilometers_Driven\"] = np.arcsinh(train_copy2['Kilometers_Driven'])\n",
    "train_copy2"
   ]
  },
  {
   "cell_type": "code",
   "execution_count": 35,
   "metadata": {},
   "outputs": [
    {
     "data": {
      "text/html": [
       "<div>\n",
       "<style scoped>\n",
       "    .dataframe tbody tr th:only-of-type {\n",
       "        vertical-align: middle;\n",
       "    }\n",
       "\n",
       "    .dataframe tbody tr th {\n",
       "        vertical-align: top;\n",
       "    }\n",
       "\n",
       "    .dataframe thead th {\n",
       "        text-align: right;\n",
       "    }\n",
       "</style>\n",
       "<table border=\"1\" class=\"dataframe\">\n",
       "  <thead>\n",
       "    <tr style=\"text-align: right;\">\n",
       "      <th></th>\n",
       "      <th>Year</th>\n",
       "      <th>Kilometers_Driven</th>\n",
       "      <th>Mileage</th>\n",
       "      <th>Engine</th>\n",
       "      <th>Power</th>\n",
       "      <th>Seats</th>\n",
       "      <th>Price</th>\n",
       "    </tr>\n",
       "  </thead>\n",
       "  <tbody>\n",
       "    <tr>\n",
       "      <th>count</th>\n",
       "      <td>5874.000000</td>\n",
       "      <td>5874.000000</td>\n",
       "      <td>5874.000000</td>\n",
       "      <td>5874.000000</td>\n",
       "      <td>5874.000000</td>\n",
       "      <td>5874.000000</td>\n",
       "      <td>5874.000000</td>\n",
       "    </tr>\n",
       "    <tr>\n",
       "      <th>mean</th>\n",
       "      <td>2013.476507</td>\n",
       "      <td>11.443181</td>\n",
       "      <td>18.273829</td>\n",
       "      <td>1625.701226</td>\n",
       "      <td>113.272203</td>\n",
       "      <td>5.283623</td>\n",
       "      <td>9.601551</td>\n",
       "    </tr>\n",
       "    <tr>\n",
       "      <th>std</th>\n",
       "      <td>3.166025</td>\n",
       "      <td>0.717954</td>\n",
       "      <td>4.371965</td>\n",
       "      <td>601.544134</td>\n",
       "      <td>53.873317</td>\n",
       "      <td>0.804961</td>\n",
       "      <td>11.248283</td>\n",
       "    </tr>\n",
       "    <tr>\n",
       "      <th>min</th>\n",
       "      <td>1998.000000</td>\n",
       "      <td>5.834819</td>\n",
       "      <td>0.000000</td>\n",
       "      <td>624.000000</td>\n",
       "      <td>34.200000</td>\n",
       "      <td>2.000000</td>\n",
       "      <td>0.440000</td>\n",
       "    </tr>\n",
       "    <tr>\n",
       "      <th>25%</th>\n",
       "      <td>2012.000000</td>\n",
       "      <td>11.110393</td>\n",
       "      <td>15.260000</td>\n",
       "      <td>1198.000000</td>\n",
       "      <td>75.000000</td>\n",
       "      <td>5.000000</td>\n",
       "      <td>3.512500</td>\n",
       "    </tr>\n",
       "    <tr>\n",
       "      <th>50%</th>\n",
       "      <td>2014.000000</td>\n",
       "      <td>11.564027</td>\n",
       "      <td>18.200000</td>\n",
       "      <td>1495.500000</td>\n",
       "      <td>97.700000</td>\n",
       "      <td>5.000000</td>\n",
       "      <td>5.750000</td>\n",
       "    </tr>\n",
       "    <tr>\n",
       "      <th>75%</th>\n",
       "      <td>2016.000000</td>\n",
       "      <td>11.883223</td>\n",
       "      <td>21.100000</td>\n",
       "      <td>1991.000000</td>\n",
       "      <td>138.100000</td>\n",
       "      <td>5.000000</td>\n",
       "      <td>10.000000</td>\n",
       "    </tr>\n",
       "    <tr>\n",
       "      <th>max</th>\n",
       "      <td>2019.000000</td>\n",
       "      <td>16.380460</td>\n",
       "      <td>33.540000</td>\n",
       "      <td>5998.000000</td>\n",
       "      <td>560.000000</td>\n",
       "      <td>10.000000</td>\n",
       "      <td>160.000000</td>\n",
       "    </tr>\n",
       "  </tbody>\n",
       "</table>\n",
       "</div>"
      ],
      "text/plain": [
       "              Year  Kilometers_Driven      Mileage       Engine        Power  \\\n",
       "count  5874.000000        5874.000000  5874.000000  5874.000000  5874.000000   \n",
       "mean   2013.476507          11.443181    18.273829  1625.701226   113.272203   \n",
       "std       3.166025           0.717954     4.371965   601.544134    53.873317   \n",
       "min    1998.000000           5.834819     0.000000   624.000000    34.200000   \n",
       "25%    2012.000000          11.110393    15.260000  1198.000000    75.000000   \n",
       "50%    2014.000000          11.564027    18.200000  1495.500000    97.700000   \n",
       "75%    2016.000000          11.883223    21.100000  1991.000000   138.100000   \n",
       "max    2019.000000          16.380460    33.540000  5998.000000   560.000000   \n",
       "\n",
       "             Seats        Price  \n",
       "count  5874.000000  5874.000000  \n",
       "mean      5.283623     9.601551  \n",
       "std       0.804961    11.248283  \n",
       "min       2.000000     0.440000  \n",
       "25%       5.000000     3.512500  \n",
       "50%       5.000000     5.750000  \n",
       "75%       5.000000    10.000000  \n",
       "max      10.000000   160.000000  "
      ]
     },
     "execution_count": 35,
     "metadata": {},
     "output_type": "execute_result"
    }
   ],
   "source": [
    "train_copy2.describe()"
   ]
  },
  {
   "cell_type": "code",
   "execution_count": 36,
   "metadata": {},
   "outputs": [
    {
     "data": {
      "text/html": [
       "<div>\n",
       "<style scoped>\n",
       "    .dataframe tbody tr th:only-of-type {\n",
       "        vertical-align: middle;\n",
       "    }\n",
       "\n",
       "    .dataframe tbody tr th {\n",
       "        vertical-align: top;\n",
       "    }\n",
       "\n",
       "    .dataframe thead th {\n",
       "        text-align: right;\n",
       "    }\n",
       "</style>\n",
       "<table border=\"1\" class=\"dataframe\">\n",
       "  <thead>\n",
       "    <tr style=\"text-align: right;\">\n",
       "      <th></th>\n",
       "      <th>Year</th>\n",
       "      <th>Kilometers_Driven</th>\n",
       "      <th>Mileage</th>\n",
       "      <th>Engine</th>\n",
       "      <th>Power</th>\n",
       "      <th>Seats</th>\n",
       "      <th>Price</th>\n",
       "    </tr>\n",
       "  </thead>\n",
       "  <tbody>\n",
       "    <tr>\n",
       "      <th>Year</th>\n",
       "      <td>1.000000</td>\n",
       "      <td>-0.497730</td>\n",
       "      <td>0.285191</td>\n",
       "      <td>-0.067918</td>\n",
       "      <td>0.014612</td>\n",
       "      <td>0.007960</td>\n",
       "      <td>0.299543</td>\n",
       "    </tr>\n",
       "    <tr>\n",
       "      <th>Kilometers_Driven</th>\n",
       "      <td>-0.497730</td>\n",
       "      <td>1.000000</td>\n",
       "      <td>-0.123609</td>\n",
       "      <td>0.157246</td>\n",
       "      <td>0.016975</td>\n",
       "      <td>0.193508</td>\n",
       "      <td>-0.179621</td>\n",
       "    </tr>\n",
       "    <tr>\n",
       "      <th>Mileage</th>\n",
       "      <td>0.285191</td>\n",
       "      <td>-0.123609</td>\n",
       "      <td>1.000000</td>\n",
       "      <td>-0.636028</td>\n",
       "      <td>-0.537729</td>\n",
       "      <td>-0.330711</td>\n",
       "      <td>-0.340554</td>\n",
       "    </tr>\n",
       "    <tr>\n",
       "      <th>Engine</th>\n",
       "      <td>-0.067918</td>\n",
       "      <td>0.157246</td>\n",
       "      <td>-0.636028</td>\n",
       "      <td>1.000000</td>\n",
       "      <td>0.866303</td>\n",
       "      <td>0.401130</td>\n",
       "      <td>0.658044</td>\n",
       "    </tr>\n",
       "    <tr>\n",
       "      <th>Power</th>\n",
       "      <td>0.014612</td>\n",
       "      <td>0.016975</td>\n",
       "      <td>-0.537729</td>\n",
       "      <td>0.866303</td>\n",
       "      <td>1.000000</td>\n",
       "      <td>0.101487</td>\n",
       "      <td>0.772837</td>\n",
       "    </tr>\n",
       "    <tr>\n",
       "      <th>Seats</th>\n",
       "      <td>0.007960</td>\n",
       "      <td>0.193508</td>\n",
       "      <td>-0.330711</td>\n",
       "      <td>0.401130</td>\n",
       "      <td>0.101487</td>\n",
       "      <td>1.000000</td>\n",
       "      <td>0.055616</td>\n",
       "    </tr>\n",
       "    <tr>\n",
       "      <th>Price</th>\n",
       "      <td>0.299543</td>\n",
       "      <td>-0.179621</td>\n",
       "      <td>-0.340554</td>\n",
       "      <td>0.658044</td>\n",
       "      <td>0.772837</td>\n",
       "      <td>0.055616</td>\n",
       "      <td>1.000000</td>\n",
       "    </tr>\n",
       "  </tbody>\n",
       "</table>\n",
       "</div>"
      ],
      "text/plain": [
       "                       Year  Kilometers_Driven   Mileage    Engine     Power  \\\n",
       "Year               1.000000          -0.497730  0.285191 -0.067918  0.014612   \n",
       "Kilometers_Driven -0.497730           1.000000 -0.123609  0.157246  0.016975   \n",
       "Mileage            0.285191          -0.123609  1.000000 -0.636028 -0.537729   \n",
       "Engine            -0.067918           0.157246 -0.636028  1.000000  0.866303   \n",
       "Power              0.014612           0.016975 -0.537729  0.866303  1.000000   \n",
       "Seats              0.007960           0.193508 -0.330711  0.401130  0.101487   \n",
       "Price              0.299543          -0.179621 -0.340554  0.658044  0.772837   \n",
       "\n",
       "                      Seats     Price  \n",
       "Year               0.007960  0.299543  \n",
       "Kilometers_Driven  0.193508 -0.179621  \n",
       "Mileage           -0.330711 -0.340554  \n",
       "Engine             0.401130  0.658044  \n",
       "Power              0.101487  0.772837  \n",
       "Seats              1.000000  0.055616  \n",
       "Price              0.055616  1.000000  "
      ]
     },
     "execution_count": 36,
     "metadata": {},
     "output_type": "execute_result"
    }
   ],
   "source": [
    "#train_copy = train_copy.pivot(\"Year\", \"Mileage\", \"Price\")\n",
    "#plt.subplots(figsize=(28, 15))\n",
    "#,cmap='coolwarm', annot=True,fmt=\".1f\",vmin=-1, vmax=1, center= 0,square=False, linewidths=.7\n",
    "train_copy2.corr()\n"
   ]
  },
  {
   "cell_type": "code",
   "execution_count": 37,
   "metadata": {},
   "outputs": [
    {
     "data": {
      "image/png": "[encoded data removed]",
      "text/plain": [
       "<Figure size 864x864 with 2 Axes>"
      ]
     },
     "metadata": {
      "needs_background": "light"
     },
     "output_type": "display_data"
    }
   ],
   "source": [
    "plt.subplots(figsize=(12,12))\n",
    "sns.heatmap(train_copy2.corr(),cmap='Blues',annot=True, fmt=\".3f\", vmin=-1, vmax=1, center= 0, square=True, linewidths=.7)\n",
    "plt.show()"
   ]
  },
  {
   "cell_type": "markdown",
   "metadata": {},
   "source": [
    "## Inisights from bivariate data:\n",
    "\n",
    "-power (r=0.77) and engine (r=0.66) correlate the most with price\n",
    "\n",
    "-mileage moderately corrlelates with price (r = -0.341)\n",
    "\n",
    "-year also moderately correlates with price (r = 0.3)\n",
    "\n",
    "-based on this heatmap and scatterplot, seats (r=0.056) correlates with price the least"
   ]
  },
  {
   "cell_type": "markdown",
   "metadata": {},
   "source": [
    "## One Hot Encoding"
   ]
  },
  {
   "cell_type": "code",
   "execution_count": 44,
   "metadata": {},
   "outputs": [
    {
     "data": {
      "text/html": [
       "<div>\n",
       "<style scoped>\n",
       "    .dataframe tbody tr th:only-of-type {\n",
       "        vertical-align: middle;\n",
       "    }\n",
       "\n",
       "    .dataframe tbody tr th {\n",
       "        vertical-align: top;\n",
       "    }\n",
       "\n",
       "    .dataframe thead th {\n",
       "        text-align: right;\n",
       "    }\n",
       "</style>\n",
       "<table border=\"1\" class=\"dataframe\">\n",
       "  <thead>\n",
       "    <tr style=\"text-align: right;\">\n",
       "      <th></th>\n",
       "      <th>Year</th>\n",
       "      <th>Mileage</th>\n",
       "      <th>Engine</th>\n",
       "      <th>Power</th>\n",
       "      <th>Seats</th>\n",
       "      <th>Price</th>\n",
       "      <th>Kilometers_Driven_arcsinh</th>\n",
       "      <th>Location_Bangalore</th>\n",
       "      <th>Location_Chennai</th>\n",
       "      <th>Location_Coimbatore</th>\n",
       "      <th>...</th>\n",
       "      <th>Location_Kolkata</th>\n",
       "      <th>Location_Mumbai</th>\n",
       "      <th>Location_Pune</th>\n",
       "      <th>Fuel_Type_Diesel</th>\n",
       "      <th>Fuel_Type_LPG</th>\n",
       "      <th>Fuel_Type_Petrol</th>\n",
       "      <th>Transmission_Manual</th>\n",
       "      <th>Owner_Type_Fourth &amp; Above</th>\n",
       "      <th>Owner_Type_Second</th>\n",
       "      <th>Owner_Type_Third</th>\n",
       "    </tr>\n",
       "  </thead>\n",
       "  <tbody>\n",
       "    <tr>\n",
       "      <th>1713</th>\n",
       "      <td>2011</td>\n",
       "      <td>26.0</td>\n",
       "      <td>624</td>\n",
       "      <td>35.0</td>\n",
       "      <td>4.0</td>\n",
       "      <td>0.44</td>\n",
       "      <td>11.775290</td>\n",
       "      <td>0</td>\n",
       "      <td>0</td>\n",
       "      <td>0</td>\n",
       "      <td>...</td>\n",
       "      <td>0</td>\n",
       "      <td>0</td>\n",
       "      <td>1</td>\n",
       "      <td>0</td>\n",
       "      <td>0</td>\n",
       "      <td>1</td>\n",
       "      <td>1</td>\n",
       "      <td>0</td>\n",
       "      <td>1</td>\n",
       "      <td>0</td>\n",
       "    </tr>\n",
       "    <tr>\n",
       "      <th>3138</th>\n",
       "      <td>1998</td>\n",
       "      <td>17.3</td>\n",
       "      <td>993</td>\n",
       "      <td>60.0</td>\n",
       "      <td>5.0</td>\n",
       "      <td>0.45</td>\n",
       "      <td>12.156357</td>\n",
       "      <td>0</td>\n",
       "      <td>0</td>\n",
       "      <td>0</td>\n",
       "      <td>...</td>\n",
       "      <td>0</td>\n",
       "      <td>0</td>\n",
       "      <td>0</td>\n",
       "      <td>0</td>\n",
       "      <td>0</td>\n",
       "      <td>1</td>\n",
       "      <td>1</td>\n",
       "      <td>0</td>\n",
       "      <td>0</td>\n",
       "      <td>1</td>\n",
       "    </tr>\n",
       "    <tr>\n",
       "      <th>2847</th>\n",
       "      <td>2005</td>\n",
       "      <td>15.3</td>\n",
       "      <td>1341</td>\n",
       "      <td>83.0</td>\n",
       "      <td>5.0</td>\n",
       "      <td>0.45</td>\n",
       "      <td>12.055250</td>\n",
       "      <td>0</td>\n",
       "      <td>0</td>\n",
       "      <td>0</td>\n",
       "      <td>...</td>\n",
       "      <td>0</td>\n",
       "      <td>0</td>\n",
       "      <td>1</td>\n",
       "      <td>0</td>\n",
       "      <td>0</td>\n",
       "      <td>1</td>\n",
       "      <td>1</td>\n",
       "      <td>0</td>\n",
       "      <td>1</td>\n",
       "      <td>0</td>\n",
       "    </tr>\n",
       "    <tr>\n",
       "      <th>1628</th>\n",
       "      <td>2004</td>\n",
       "      <td>16.1</td>\n",
       "      <td>796</td>\n",
       "      <td>37.0</td>\n",
       "      <td>4.0</td>\n",
       "      <td>0.45</td>\n",
       "      <td>10.085809</td>\n",
       "      <td>0</td>\n",
       "      <td>0</td>\n",
       "      <td>0</td>\n",
       "      <td>...</td>\n",
       "      <td>0</td>\n",
       "      <td>0</td>\n",
       "      <td>0</td>\n",
       "      <td>0</td>\n",
       "      <td>0</td>\n",
       "      <td>1</td>\n",
       "      <td>1</td>\n",
       "      <td>0</td>\n",
       "      <td>1</td>\n",
       "      <td>0</td>\n",
       "    </tr>\n",
       "    <tr>\n",
       "      <th>3228</th>\n",
       "      <td>2003</td>\n",
       "      <td>16.1</td>\n",
       "      <td>796</td>\n",
       "      <td>37.0</td>\n",
       "      <td>4.0</td>\n",
       "      <td>0.50</td>\n",
       "      <td>11.552146</td>\n",
       "      <td>0</td>\n",
       "      <td>0</td>\n",
       "      <td>0</td>\n",
       "      <td>...</td>\n",
       "      <td>0</td>\n",
       "      <td>0</td>\n",
       "      <td>1</td>\n",
       "      <td>0</td>\n",
       "      <td>0</td>\n",
       "      <td>1</td>\n",
       "      <td>1</td>\n",
       "      <td>0</td>\n",
       "      <td>0</td>\n",
       "      <td>0</td>\n",
       "    </tr>\n",
       "  </tbody>\n",
       "</table>\n",
       "<p>5 rows × 24 columns</p>\n",
       "</div>"
      ],
      "text/plain": [
       "      Year  Mileage  Engine  Power  Seats  Price  Kilometers_Driven_arcsinh  \\\n",
       "1713  2011     26.0     624   35.0    4.0   0.44                  11.775290   \n",
       "3138  1998     17.3     993   60.0    5.0   0.45                  12.156357   \n",
       "2847  2005     15.3    1341   83.0    5.0   0.45                  12.055250   \n",
       "1628  2004     16.1     796   37.0    4.0   0.45                  10.085809   \n",
       "3228  2003     16.1     796   37.0    4.0   0.50                  11.552146   \n",
       "\n",
       "      Location_Bangalore  Location_Chennai  Location_Coimbatore  ...  \\\n",
       "1713                   0                 0                    0  ...   \n",
       "3138                   0                 0                    0  ...   \n",
       "2847                   0                 0                    0  ...   \n",
       "1628                   0                 0                    0  ...   \n",
       "3228                   0                 0                    0  ...   \n",
       "\n",
       "      Location_Kolkata  Location_Mumbai  Location_Pune  Fuel_Type_Diesel  \\\n",
       "1713                 0                0              1                 0   \n",
       "3138                 0                0              0                 0   \n",
       "2847                 0                0              1                 0   \n",
       "1628                 0                0              0                 0   \n",
       "3228                 0                0              1                 0   \n",
       "\n",
       "      Fuel_Type_LPG  Fuel_Type_Petrol  Transmission_Manual  \\\n",
       "1713              0                 1                    1   \n",
       "3138              0                 1                    1   \n",
       "2847              0                 1                    1   \n",
       "1628              0                 1                    1   \n",
       "3228              0                 1                    1   \n",
       "\n",
       "      Owner_Type_Fourth & Above  Owner_Type_Second  Owner_Type_Third  \n",
       "1713                          0                  1                 0  \n",
       "3138                          0                  0                 1  \n",
       "2847                          0                  1                 0  \n",
       "1628                          0                  1                 0  \n",
       "3228                          0                  0                 0  \n",
       "\n",
       "[5 rows x 24 columns]"
      ]
     },
     "execution_count": 44,
     "metadata": {},
     "output_type": "execute_result"
    }
   ],
   "source": [
    "train_copy3 = train_copy.copy()\n",
    "train_copy3[\"Kilometers_Driven_arcsinh\"] = np.arcsinh(train_copy3['Kilometers_Driven'])\n",
    "\n",
    "train_copy3 = train_copy3.drop([\"S.No.\",\"New_Price\", \"Name\", \"Kilometers_Driven\"], axis =1)\n",
    "train_copy3\n",
    "cdata = pd.get_dummies(train_copy3, drop_first= True)\n",
    "cdata.head()"
   ]
  },
  {
   "cell_type": "markdown",
   "metadata": {},
   "source": [
    "Insights \n",
    "- i ended up removing the name and new_price column for this part of the dataset since they made the on hot encoding step much longer. My New_price column is still an object-type column as i have not converted it to a float yet \n",
    "- update after the modelling step: I ended up removing this column all together based on the numerous missing values"
   ]
  },
  {
   "cell_type": "markdown",
   "metadata": {},
   "source": [
    "## Model \n"
   ]
  },
  {
   "cell_type": "code",
   "execution_count": 45,
   "metadata": {},
   "outputs": [
    {
     "data": {
      "text/plain": [
       "LinearRegression()"
      ]
     },
     "execution_count": 45,
     "metadata": {},
     "output_type": "execute_result"
    }
   ],
   "source": [
    "from sklearn.linear_model import LinearRegression\n",
    "from sklearn.model_selection import train_test_split\n",
    "\n",
    "regression_model = LinearRegression() \n",
    "train_copy4 = cdata.copy()\n",
    "X = cdata.drop(columns =['Price'])\n",
    "y = train_copy4[\"Price\"]\n",
    "\n",
    "\n",
    "# X_train = train_copy5\n",
    "# y_train = train_copy6\n",
    "\n",
    "X_train, X_test, y_train, y_test = train_test_split(X, y, test_size=0.30, random_state=1)\n",
    "\n",
    "regression_model.fit(X_train, y_train) "
   ]
  },
  {
   "cell_type": "code",
   "execution_count": 46,
   "metadata": {},
   "outputs": [
    {
     "name": "stdout",
     "output_type": "stream",
     "text": [
      "The coefficient for Year is 0.820640472340503\n",
      "The coefficient for Mileage is -0.2042103801713088\n",
      "The coefficient for Engine is 0.0006313444810276657\n",
      "The coefficient for Power is 0.12454084287898938\n",
      "The coefficient for Seats is -0.9282974876396373\n",
      "The coefficient for Kilometers_Driven_arcsinh is -1.8225725634984011\n",
      "The coefficient for Location_Bangalore is 1.7923105716651224\n",
      "The coefficient for Location_Chennai is 1.2168872171776182\n",
      "The coefficient for Location_Coimbatore is 2.5386826710326256\n",
      "The coefficient for Location_Delhi is -0.24785688264316127\n",
      "The coefficient for Location_Hyderabad is 1.7599804734206412\n",
      "The coefficient for Location_Jaipur is 1.0491021809040555\n",
      "The coefficient for Location_Kochi is 0.041468923511159377\n",
      "The coefficient for Location_Kolkata is -1.3968525424255378\n",
      "The coefficient for Location_Mumbai is -0.9793232742008293\n",
      "The coefficient for Location_Pune is 0.8243159562441179\n",
      "The coefficient for Fuel_Type_Diesel is -1.3195406764198034\n",
      "The coefficient for Fuel_Type_LPG is 0.40110021776868904\n",
      "The coefficient for Fuel_Type_Petrol is -4.57224479318766\n",
      "The coefficient for Transmission_Manual is -2.3595318743089164\n",
      "The coefficient for Owner_Type_Fourth & Above is 1.4424827771065252\n",
      "The coefficient for Owner_Type_Second is -0.2993033379327952\n",
      "The coefficient for Owner_Type_Third is 0.8262282921144168\n"
     ]
    }
   ],
   "source": [
    "for idx, col_name in enumerate(X_train.columns):\n",
    "    print(\"The coefficient for {} is {}\".format(col_name, regression_model.coef_[idx]))"
   ]
  },
  {
   "cell_type": "code",
   "execution_count": 47,
   "metadata": {},
   "outputs": [
    {
     "name": "stdout",
     "output_type": "stream",
     "text": [
      "The intercept for our model is -1624.4844817171831\n"
     ]
    }
   ],
   "source": [
    "intercept = regression_model.intercept_\n",
    "print(\"The intercept for our model is {}\".format(intercept))"
   ]
  },
  {
   "cell_type": "code",
   "execution_count": 48,
   "metadata": {},
   "outputs": [
    {
     "data": {
      "text/plain": [
       "0.7362256605745687"
      ]
     },
     "execution_count": 48,
     "metadata": {},
     "output_type": "execute_result"
    }
   ],
   "source": [
    "regression_model.score(X_train, y_train)"
   ]
  },
  {
   "cell_type": "markdown",
   "metadata": {},
   "source": [
    "# Insights from my model on the training data:\n",
    "- Engine was the lowest absolute weight on Price\n",
    "- Fuel_Type_Petrol was the highest absolute weight on Price"
   ]
  },
  {
   "cell_type": "code",
   "execution_count": 49,
   "metadata": {},
   "outputs": [
    {
     "data": {
      "text/plain": [
       "0.6723069174712188"
      ]
     },
     "execution_count": 49,
     "metadata": {},
     "output_type": "execute_result"
    }
   ],
   "source": [
    "regression_model.score(X_test, y_test)"
   ]
  },
  {
   "cell_type": "markdown",
   "metadata": {},
   "source": [
    "## Find out how well the model performed"
   ]
  },
  {
   "cell_type": "code",
   "execution_count": 66,
   "metadata": {},
   "outputs": [],
   "source": [
    "\n",
    "from sklearn.metrics import mean_squared_error\n",
    "from sklearn.metrics import mean_absolute_error\n",
    "from sklearn.metrics import r2_score\n",
    "\n",
    "# Adjusted R^2\n",
    "def adj_r2(ind_vars, actual, goal):\n",
    "    r2 = r2_score(actual, goal)\n",
    "    n = ind_vars.shape[0]\n",
    "    k = ind_vars.shape[1]\n",
    "    return 1-((1-r2)*(n-1)/(n-k-1))\n",
    "\n",
    "# Model performance check\n",
    "def model_performance(model, inp, out):\n",
    "\n",
    "    y_pred = model.predict(inp)\n",
    "    y_act = out.values\n",
    "\n",
    "    print(\"Root mean square error:\".ljust(39), np.sqrt(mean_squared_error(y_act, y_pred)), \"\\n\"   \n",
    "           \"mean abs error:\".ljust(40), mean_absolute_error(y_act, y_pred), \"\\n\"\n",
    "           \"R^2:\".ljust(40), r2_score(y_act, y_pred), \"\\n\"\n",
    "           \"Adjust R^2:\".ljust(40), adj_r2(inp, y_act, y_pred))"
   ]
  },
  {
   "cell_type": "code",
   "execution_count": 67,
   "metadata": {},
   "outputs": [
    {
     "name": "stdout",
     "output_type": "stream",
     "text": [
      "Training Performance\n",
      "\n",
      "Root mean square error:                 5.732738325722466 \n",
      "mean abs error:                         3.659205757234382 \n",
      "R^2:                                    0.7362256605745687 \n",
      "Adjust R^2:                             0.734741244179466\n",
      "None\n"
     ]
    }
   ],
   "source": [
    "print('Training Performance\\n')\n",
    "print(model_performance(regression_model, X_train, y_train))"
   ]
  },
  {
   "cell_type": "code",
   "execution_count": 68,
   "metadata": {},
   "outputs": [
    {
     "name": "stdout",
     "output_type": "stream",
     "text": [
      "Root mean square error:                 6.548932873704343 \n",
      "mean abs error:                         3.645878691555 \n",
      "R^2:                                    0.6723069174712188 \n",
      "Adjust R^2:                             0.6679728513998203\n",
      "None\n"
     ]
    }
   ],
   "source": [
    "print(model_performance(regression_model, X_test, y_test))"
   ]
  },
  {
   "cell_type": "markdown",
   "metadata": {},
   "source": [
    "### Insights from the model analysis\n",
    "- training and testing root mean square error are 5.73 and 6.54, signifying a close but not perfect fit to the test data\n",
    "- R^2 score is 0.67, meaning that 67% of the total variation in the dataset is explained by our model"
   ]
  },
  {
   "cell_type": "markdown",
   "metadata": {},
   "source": [
    "# Testing the assumptions of linear regression model\n",
    "\n",
    "1. **No Multicollinearity**\n",
    "2. **Mean of residuals should be 0**\n",
    "3. **No Heteroscedacity**\n",
    "4. **Linearity of variables**\n",
    "5. **Normality of error terms**\n"
   ]
  },
  {
   "cell_type": "markdown",
   "metadata": {},
   "source": [
    "## 1. No multicollinearity"
   ]
  },
  {
   "cell_type": "code",
   "execution_count": 69,
   "metadata": {},
   "outputs": [
    {
     "data": {
      "text/html": [
       "<div>\n",
       "<style scoped>\n",
       "    .dataframe tbody tr th:only-of-type {\n",
       "        vertical-align: middle;\n",
       "    }\n",
       "\n",
       "    .dataframe tbody tr th {\n",
       "        vertical-align: top;\n",
       "    }\n",
       "\n",
       "    .dataframe thead th {\n",
       "        text-align: right;\n",
       "    }\n",
       "</style>\n",
       "<table border=\"1\" class=\"dataframe\">\n",
       "  <thead>\n",
       "    <tr style=\"text-align: right;\">\n",
       "      <th></th>\n",
       "      <th>Year</th>\n",
       "      <th>Mileage</th>\n",
       "      <th>Engine</th>\n",
       "      <th>Power</th>\n",
       "      <th>Seats</th>\n",
       "      <th>Price</th>\n",
       "      <th>Kilometers_Driven_arcsinh</th>\n",
       "      <th>Location_Bangalore</th>\n",
       "      <th>Location_Chennai</th>\n",
       "      <th>Location_Coimbatore</th>\n",
       "      <th>...</th>\n",
       "      <th>Location_Mumbai</th>\n",
       "      <th>Location_Pune</th>\n",
       "      <th>Fuel_Type_Diesel</th>\n",
       "      <th>Fuel_Type_LPG</th>\n",
       "      <th>Fuel_Type_Petrol</th>\n",
       "      <th>Transmission_Manual</th>\n",
       "      <th>Owner_Type_Fourth &amp; Above</th>\n",
       "      <th>Owner_Type_Second</th>\n",
       "      <th>Owner_Type_Third</th>\n",
       "      <th>const</th>\n",
       "    </tr>\n",
       "  </thead>\n",
       "  <tbody>\n",
       "    <tr>\n",
       "      <th>1713</th>\n",
       "      <td>2011</td>\n",
       "      <td>26.0</td>\n",
       "      <td>624</td>\n",
       "      <td>35.0</td>\n",
       "      <td>4.0</td>\n",
       "      <td>0.44</td>\n",
       "      <td>11.775290</td>\n",
       "      <td>0</td>\n",
       "      <td>0</td>\n",
       "      <td>0</td>\n",
       "      <td>...</td>\n",
       "      <td>0</td>\n",
       "      <td>1</td>\n",
       "      <td>0</td>\n",
       "      <td>0</td>\n",
       "      <td>1</td>\n",
       "      <td>1</td>\n",
       "      <td>0</td>\n",
       "      <td>1</td>\n",
       "      <td>0</td>\n",
       "      <td>1</td>\n",
       "    </tr>\n",
       "    <tr>\n",
       "      <th>3138</th>\n",
       "      <td>1998</td>\n",
       "      <td>17.3</td>\n",
       "      <td>993</td>\n",
       "      <td>60.0</td>\n",
       "      <td>5.0</td>\n",
       "      <td>0.45</td>\n",
       "      <td>12.156357</td>\n",
       "      <td>0</td>\n",
       "      <td>0</td>\n",
       "      <td>0</td>\n",
       "      <td>...</td>\n",
       "      <td>0</td>\n",
       "      <td>0</td>\n",
       "      <td>0</td>\n",
       "      <td>0</td>\n",
       "      <td>1</td>\n",
       "      <td>1</td>\n",
       "      <td>0</td>\n",
       "      <td>0</td>\n",
       "      <td>1</td>\n",
       "      <td>1</td>\n",
       "    </tr>\n",
       "    <tr>\n",
       "      <th>2847</th>\n",
       "      <td>2005</td>\n",
       "      <td>15.3</td>\n",
       "      <td>1341</td>\n",
       "      <td>83.0</td>\n",
       "      <td>5.0</td>\n",
       "      <td>0.45</td>\n",
       "      <td>12.055250</td>\n",
       "      <td>0</td>\n",
       "      <td>0</td>\n",
       "      <td>0</td>\n",
       "      <td>...</td>\n",
       "      <td>0</td>\n",
       "      <td>1</td>\n",
       "      <td>0</td>\n",
       "      <td>0</td>\n",
       "      <td>1</td>\n",
       "      <td>1</td>\n",
       "      <td>0</td>\n",
       "      <td>1</td>\n",
       "      <td>0</td>\n",
       "      <td>1</td>\n",
       "    </tr>\n",
       "    <tr>\n",
       "      <th>1628</th>\n",
       "      <td>2004</td>\n",
       "      <td>16.1</td>\n",
       "      <td>796</td>\n",
       "      <td>37.0</td>\n",
       "      <td>4.0</td>\n",
       "      <td>0.45</td>\n",
       "      <td>10.085809</td>\n",
       "      <td>0</td>\n",
       "      <td>0</td>\n",
       "      <td>0</td>\n",
       "      <td>...</td>\n",
       "      <td>0</td>\n",
       "      <td>0</td>\n",
       "      <td>0</td>\n",
       "      <td>0</td>\n",
       "      <td>1</td>\n",
       "      <td>1</td>\n",
       "      <td>0</td>\n",
       "      <td>1</td>\n",
       "      <td>0</td>\n",
       "      <td>1</td>\n",
       "    </tr>\n",
       "    <tr>\n",
       "      <th>3228</th>\n",
       "      <td>2003</td>\n",
       "      <td>16.1</td>\n",
       "      <td>796</td>\n",
       "      <td>37.0</td>\n",
       "      <td>4.0</td>\n",
       "      <td>0.50</td>\n",
       "      <td>11.552146</td>\n",
       "      <td>0</td>\n",
       "      <td>0</td>\n",
       "      <td>0</td>\n",
       "      <td>...</td>\n",
       "      <td>0</td>\n",
       "      <td>1</td>\n",
       "      <td>0</td>\n",
       "      <td>0</td>\n",
       "      <td>1</td>\n",
       "      <td>1</td>\n",
       "      <td>0</td>\n",
       "      <td>0</td>\n",
       "      <td>0</td>\n",
       "      <td>1</td>\n",
       "    </tr>\n",
       "  </tbody>\n",
       "</table>\n",
       "<p>5 rows × 25 columns</p>\n",
       "</div>"
      ],
      "text/plain": [
       "      Year  Mileage  Engine  Power  Seats  Price  Kilometers_Driven_arcsinh  \\\n",
       "1713  2011     26.0     624   35.0    4.0   0.44                  11.775290   \n",
       "3138  1998     17.3     993   60.0    5.0   0.45                  12.156357   \n",
       "2847  2005     15.3    1341   83.0    5.0   0.45                  12.055250   \n",
       "1628  2004     16.1     796   37.0    4.0   0.45                  10.085809   \n",
       "3228  2003     16.1     796   37.0    4.0   0.50                  11.552146   \n",
       "\n",
       "      Location_Bangalore  Location_Chennai  Location_Coimbatore  ...  \\\n",
       "1713                   0                 0                    0  ...   \n",
       "3138                   0                 0                    0  ...   \n",
       "2847                   0                 0                    0  ...   \n",
       "1628                   0                 0                    0  ...   \n",
       "3228                   0                 0                    0  ...   \n",
       "\n",
       "      Location_Mumbai  Location_Pune  Fuel_Type_Diesel  Fuel_Type_LPG  \\\n",
       "1713                0              1                 0              0   \n",
       "3138                0              0                 0              0   \n",
       "2847                0              1                 0              0   \n",
       "1628                0              0                 0              0   \n",
       "3228                0              1                 0              0   \n",
       "\n",
       "      Fuel_Type_Petrol  Transmission_Manual  Owner_Type_Fourth & Above  \\\n",
       "1713                 1                    1                          0   \n",
       "3138                 1                    1                          0   \n",
       "2847                 1                    1                          0   \n",
       "1628                 1                    1                          0   \n",
       "3228                 1                    1                          0   \n",
       "\n",
       "      Owner_Type_Second  Owner_Type_Third  const  \n",
       "1713                  1                 0      1  \n",
       "3138                  0                 1      1  \n",
       "2847                  1                 0      1  \n",
       "1628                  1                 0      1  \n",
       "3228                  0                 0      1  \n",
       "\n",
       "[5 rows x 25 columns]"
      ]
     },
     "execution_count": 69,
     "metadata": {},
     "output_type": "execute_result"
    }
   ],
   "source": [
    "# first add a column with a constant value of 1\n",
    "\n",
    "copy_train = train_copy4.copy()\n",
    "\n",
    "copy_train['const'] = 1\n",
    "copy_train.head()"
   ]
  },
  {
   "cell_type": "code",
   "execution_count": 70,
   "metadata": {},
   "outputs": [
    {
     "name": "stdout",
     "output_type": "stream",
     "text": [
      "Columns pre feature selection: \n",
      "\n",
      "Year                              2.200835\n",
      "Mileage                           2.981279\n",
      "Engine                            9.120134\n",
      "Power                             8.234983\n",
      "Seats                             1.893705\n",
      "Price                             3.532727\n",
      "Kilometers_Driven_arcsinh         1.762184\n",
      "Location_Bangalore                2.464715\n",
      "Location_Chennai                  2.945874\n",
      "Location_Coimbatore               3.546965\n",
      "Location_Delhi                    3.167143\n",
      "Location_Hyderabad                3.779062\n",
      "Location_Jaipur                   2.661927\n",
      "Location_Kochi                    3.589817\n",
      "Location_Kolkata                  3.121027\n",
      "Location_Mumbai                   3.999616\n",
      "Location_Pune                     3.364401\n",
      "Fuel_Type_Diesel                 28.102334\n",
      "Fuel_Type_LPG                     1.198029\n",
      "Fuel_Type_Petrol                 29.067931\n",
      "Transmission_Manual               1.902445\n",
      "Owner_Type_Fourth & Above         1.009637\n",
      "Owner_Type_Second                 1.164017\n",
      "Owner_Type_Third                  1.101079\n",
      "const                        900340.748318\n",
      "dtype: float64\t\n"
     ]
    }
   ],
   "source": [
    "from statsmodels.stats.outliers_influence import variance_inflation_factor\n",
    "\n",
    "vif_train = pd.Series([variance_inflation_factor(copy_train.values,i) for i in range(copy_train.shape[1])],index=copy_train.columns)\n",
    "print('Columns pre feature selection: \\n\\n{}\\t'.format(vif_train))"
   ]
  },
  {
   "cell_type": "code",
   "execution_count": 71,
   "metadata": {},
   "outputs": [],
   "source": [
    "# now we need to determine which columsn to drop and keep in order to meet no multicollinearity in the data\n",
    "def treating_multicollinearity(high_vif_columns, x_train, x_test, y_train, y_test):\n",
    "    \"\"\"\n",
    "    Loop thru each column and drop every column that has VIF score > 5\n",
    "    Loop thru the adjusted R square\n",
    "    Loop thru the RMSE of all these models on test data\n",
    "    \"\"\"\n",
    "    adj_rsq = []\n",
    "    rmse_test = []\n",
    "    from sklearn.linear_model import LinearRegression\n",
    "    from sklearn.metrics import mean_squared_error\n",
    "    from sklearn.metrics import mean_absolute_error\n",
    "    from sklearn.metrics import r2_score\n",
    "    \n",
    "    # build models by dropping one of these at a time and observe the Adjusted R-squared\n",
    "    for cols in high_vif_columns:\n",
    "        train = x_train.loc[:, ~x_train.columns.str.startswith(cols)]\n",
    "        test = x_test.loc[:, ~x_test.columns.str.startswith(cols)]\n",
    "        \n",
    "        # Create the model\n",
    "        model = LinearRegression(fit_intercept=False)\n",
    "        model.fit(train, y_train)\n",
    "        # Adj R-Sq\n",
    "        adj_rsq.append(adj_r2(train, y_train, model.predict(train)))\n",
    "        # RMSE (Test data)\n",
    "        y_pred_test_Price = model.predict(test)\n",
    "        y_test_Price = y_test\n",
    "        rmse_test.append(np.sqrt(mean_squared_error(y_pred_test_Price, y_test_Price)))\n",
    "\n",
    "    # Add new Adj_Rsq and RMSE after dropping each colmn\n",
    "    temp = pd.DataFrame(\n",
    "        {\n",
    "            \"col\": high_vif_columns,\n",
    "            \"Adj_rsq_after_dropping_col\": adj_rsq,\n",
    "            \"Test RMSE\": rmse_test,\n",
    "        }\n",
    "    ).sort_values(by=\"Adj_rsq_after_dropping_col\", ascending=True)\n",
    "\n",
    "    print(temp)"
   ]
  },
  {
   "cell_type": "code",
   "execution_count": 72,
   "metadata": {},
   "outputs": [
    {
     "name": "stdout",
     "output_type": "stream",
     "text": [
      "                col  Adj_rsq_after_dropping_col  Test RMSE\n",
      "1             Power                    0.682229   7.098560\n",
      "3  Fuel_Type_Petrol                    0.733365   6.559357\n",
      "0            Engine                    0.734610   6.549132\n",
      "2  Fuel_Type_Diesel                    0.734622   6.549099\n"
     ]
    }
   ],
   "source": [
    "high_vif_columns = [\"Engine\", \"Power\", \"Fuel_Type_Diesel\", \"Fuel_Type_Petrol\"]\n",
    "\n",
    "X_train1 = X_train.copy()\n",
    "X_train1['constant'] = 1\n",
    "\n",
    "X_test1 = X_test.copy()\n",
    "X_test1['constant'] = 1\n",
    "\n",
    "treating_multicollinearity(high_vif_columns, X_train1, X_test1, y_train, y_test)"
   ]
  },
  {
   "cell_type": "markdown",
   "metadata": {},
   "source": [
    "## insights \n",
    "- By dropping power, my model will increase RMSE the most , so I will drop it and then check VIF"
   ]
  },
  {
   "cell_type": "code",
   "execution_count": 73,
   "metadata": {},
   "outputs": [
    {
     "name": "stdout",
     "output_type": "stream",
     "text": [
      "Series before feature selection: \n",
      "\n",
      "Year                              1.998971\n",
      "Mileage                           3.029674\n",
      "Engine                            3.297451\n",
      "Seats                             1.551573\n",
      "Kilometers_Driven_arcsinh         1.686886\n",
      "Location_Bangalore                2.405652\n",
      "Location_Chennai                  2.931970\n",
      "Location_Coimbatore               3.534453\n",
      "Location_Delhi                    3.029322\n",
      "Location_Hyderabad                3.732678\n",
      "Location_Jaipur                   2.592087\n",
      "Location_Kochi                    3.514134\n",
      "Location_Kolkata                  2.963564\n",
      "Location_Mumbai                   3.840816\n",
      "Location_Pune                     3.412504\n",
      "Fuel_Type_Diesel                 29.182221\n",
      "Fuel_Type_LPG                     1.177938\n",
      "Fuel_Type_Petrol                 30.154132\n",
      "Transmission_Manual               1.658787\n",
      "Owner_Type_Fourth & Above         1.010788\n",
      "Owner_Type_Second                 1.156769\n",
      "Owner_Type_Third                  1.101690\n",
      "constant                     814905.051899\n",
      "dtype: float64\n",
      "\n"
     ]
    }
   ],
   "source": [
    "X_train2 = X_train1.drop('Power', axis=1)\n",
    "vif_series2 = pd.Series([variance_inflation_factor(X_train2.values,i) for i in range(X_train2.shape[1])],index=X_train2.columns)\n",
    "print('Series before feature selection: \\n\\n{}\\n'.format(vif_series2))"
   ]
  },
  {
   "cell_type": "code",
   "execution_count": 74,
   "metadata": {},
   "outputs": [
    {
     "name": "stdout",
     "output_type": "stream",
     "text": [
      "                col  Adj_rsq_after_dropping_col  Test RMSE\n",
      "1  Fuel_Type_Petrol                    0.733365   6.559357\n",
      "0  Fuel_Type_Diesel                    0.734622   6.549099\n"
     ]
    }
   ],
   "source": [
    "high_vif_columns = [\"Fuel_Type_Diesel\",\"Fuel_Type_Petrol\"]\n",
    "\n",
    "treating_multicollinearity(high_vif_columns, X_train1, X_test1, y_train, y_test)"
   ]
  },
  {
   "cell_type": "markdown",
   "metadata": {},
   "source": [
    "#### By dropping Fuel_Type_Petrol, my model will increase RMSE the most , so I will drop it and then check VIF"
   ]
  },
  {
   "cell_type": "code",
   "execution_count": 75,
   "metadata": {},
   "outputs": [
    {
     "name": "stdout",
     "output_type": "stream",
     "text": [
      "Series before feature selection: \n",
      "\n",
      "Year                              1.998787\n",
      "Mileage                           2.857499\n",
      "Engine                            3.241683\n",
      "Seats                             1.543772\n",
      "Kilometers_Driven_arcsinh         1.678956\n",
      "Location_Bangalore                2.405149\n",
      "Location_Chennai                  2.930144\n",
      "Location_Coimbatore               3.532999\n",
      "Location_Delhi                    3.027820\n",
      "Location_Hyderabad                3.731727\n",
      "Location_Jaipur                   2.590197\n",
      "Location_Kochi                    3.513891\n",
      "Location_Kolkata                  2.961315\n",
      "Location_Mumbai                   3.840660\n",
      "Location_Pune                     3.412168\n",
      "Fuel_Type_Diesel                  2.026547\n",
      "Fuel_Type_LPG                     1.008654\n",
      "Transmission_Manual               1.658110\n",
      "Owner_Type_Fourth & Above         1.010780\n",
      "Owner_Type_Second                 1.156243\n",
      "Owner_Type_Third                  1.101575\n",
      "constant                     814864.565101\n",
      "dtype: float64\n",
      "\n"
     ]
    }
   ],
   "source": [
    "X_train3 = X_train2.drop(\"Fuel_Type_Petrol\", axis =1)\n",
    "vif_series3 = pd.Series([variance_inflation_factor(X_train3.values,i) for i in range(X_train3.shape[1])],index=X_train3.columns)\n",
    "print('Series before feature selection: \\n\\n{}\\n'.format(vif_series3))"
   ]
  },
  {
   "cell_type": "markdown",
   "metadata": {},
   "source": [
    "### Insights\n",
    "- dropping Fuel_Type_Petrol has reduced all of the vifs such that they are within an acceptable range"
   ]
  },
  {
   "cell_type": "code",
   "execution_count": 76,
   "metadata": {},
   "outputs": [
    {
     "name": "stdout",
     "output_type": "stream",
     "text": [
      "Training Performance\n",
      "\n",
      "Root mean square error:                 6.2825883956841295 \n",
      "mean abs error:                         4.032482163908591 \n",
      "R^2:                                    0.6831997449759999 \n",
      "Adjust R^2:                             0.6814948512356556\n",
      "None\n"
     ]
    }
   ],
   "source": [
    "lin_reg_model = LinearRegression(fit_intercept=False)\n",
    "lin_reg_model.fit(X_train3,y_train)\n",
    "\n",
    "print('Training Performance\\n')\n",
    "print(model_performance(lin_reg_model, X_train3, y_train))"
   ]
  },
  {
   "cell_type": "markdown",
   "metadata": {},
   "source": [
    "### Observations from multicollinearity test\n",
    "\n",
    "- Earlier R-squared was 0.67, and now it is increased to 0.68, which means that removing the 2 variables did not affect the model \n",
    "- Now Adjusted R-squared is 0.68, which means that our model explains 68% of variance wheras the previous  Adjusted-R squared was 68% which shows an improvement in the model overall"
   ]
  },
  {
   "cell_type": "markdown",
   "metadata": {},
   "source": [
    "## 2. Mean of residuals should be 0"
   ]
  },
  {
   "cell_type": "code",
   "execution_count": 77,
   "metadata": {},
   "outputs": [
    {
     "data": {
      "text/plain": [
       "-7.038780488491517e-13"
      ]
     },
     "execution_count": 77,
     "metadata": {},
     "output_type": "execute_result"
    }
   ],
   "source": [
    "actual = lin_reg_model.predict(X_train3)\n",
    "residual = actual - y_train.values\n",
    "\n",
    "np.mean(residual)"
   ]
  },
  {
   "cell_type": "markdown",
   "metadata": {},
   "source": [
    "### Insights \n",
    "- the residual is -7.04 x10^(-13), meaning it is very small "
   ]
  },
  {
   "cell_type": "markdown",
   "metadata": {},
   "source": [
    "## 3. Linearity Test"
   ]
  },
  {
   "cell_type": "code",
   "execution_count": 78,
   "metadata": {},
   "outputs": [
    {
     "data": {
      "image/png": "[encoded data removed]",
      "text/plain": [
       "<Figure size 432x288 with 1 Axes>"
      ]
     },
     "metadata": {
      "needs_background": "light"
     },
     "output_type": "display_data"
    }
   ],
   "source": [
    "sns.residplot(actual,residual,color=\"blue\")\n",
    "plt.xlabel(\"Fit Values\")\n",
    "plt.ylabel(\"Residual\")\n",
    "plt.title(\"Residual Plot\")\n",
    "plt.show()"
   ]
  },
  {
   "cell_type": "markdown",
   "metadata": {},
   "source": [
    "### Insights\n",
    "\n",
    "- There seems to be a slight linearity in the first part of the data, but overall, there is no overall trend, however, to try to fix this, I will transform a few columns "
   ]
  },
  {
   "cell_type": "code",
   "execution_count": null,
   "metadata": {},
   "outputs": [],
   "source": [
    "#X_train3[\"Kilometers_Driven\"] = np.log10(X_train3[\"Kilometers_Driven\"])\n",
    "#X_train3[\"Kilometers_Driven\"] = np.exp(X_train3[\"Kilometers_Driven\"])\n",
    "#X_train3[\"Year\"] = np.log(X_train3[\"Year\"])\n",
    "X_train3\n",
    "\n",
    "#when I tried to do perform the transformations above, the model became a much poorer fit and failed the residual mean \n",
    "#=0 assumtion, so I did not keep these transformations"
   ]
  },
  {
   "cell_type": "markdown",
   "metadata": {},
   "source": [
    "### 4. Homoscedacity Test"
   ]
  },
  {
   "cell_type": "markdown",
   "metadata": {},
   "source": [
    "Since the data is not completely asymmetric in the residual plot, we can assume this assumtion is met. While the symmetry can be improved, the transformed data could negatively impact other assumptions as well as the test performance"
   ]
  },
  {
   "cell_type": "markdown",
   "metadata": {},
   "source": [
    "### 5. Normality Test"
   ]
  },
  {
   "cell_type": "code",
   "execution_count": 79,
   "metadata": {},
   "outputs": [
    {
     "data": {
      "image/png": "[encoded data removed]",
      "text/plain": [
       "<Figure size 432x288 with 1 Axes>"
      ]
     },
     "metadata": {
      "needs_background": "light"
     },
     "output_type": "display_data"
    }
   ],
   "source": [
    "sns.distplot(residual)\n",
    "plt.title('Normality of residuals')\n",
    "plt.show()"
   ]
  },
  {
   "cell_type": "markdown",
   "metadata": {},
   "source": [
    "### Insights\n",
    "- we see that while the data is normally distributed, there is a left skew"
   ]
  },
  {
   "cell_type": "code",
   "execution_count": 80,
   "metadata": {},
   "outputs": [
    {
     "data": {
      "image/png": "[encoded data removed]",
      "text/plain": [
       "<Figure size 432x288 with 1 Axes>"
      ]
     },
     "metadata": {
      "needs_background": "light"
     },
     "output_type": "display_data"
    }
   ],
   "source": [
    "import pylab\n",
    "import scipy.stats as stats\n",
    "stats.probplot(residual.flatten(),dist=\"norm\",plot=pylab)\n",
    "plt.show()"
   ]
  },
  {
   "cell_type": "markdown",
   "metadata": {},
   "source": [
    "### Insights\n",
    "- we see that while the data realtively follows a straight line, the values are skewed in the [-3,-1] range\n",
    "- however, when we transform other variables, via log, arcsinh, square root, and exponential, as above, the model is not as accurate as without the transformations, so I won't keep those transformations"
   ]
  },
  {
   "cell_type": "markdown",
   "metadata": {},
   "source": [
    "## Predicting the test data"
   ]
  },
  {
   "cell_type": "code",
   "execution_count": 81,
   "metadata": {},
   "outputs": [
    {
     "data": {
      "text/plain": [
       "Index(['Year', 'Mileage', 'Engine', 'Seats', 'Kilometers_Driven_arcsinh',\n",
       "       'Location_Bangalore', 'Location_Chennai', 'Location_Coimbatore',\n",
       "       'Location_Delhi', 'Location_Hyderabad', 'Location_Jaipur',\n",
       "       'Location_Kochi', 'Location_Kolkata', 'Location_Mumbai',\n",
       "       'Location_Pune', 'Fuel_Type_Diesel', 'Fuel_Type_LPG',\n",
       "       'Transmission_Manual', 'Owner_Type_Fourth & Above', 'Owner_Type_Second',\n",
       "       'Owner_Type_Third', 'constant'],\n",
       "      dtype='object')"
      ]
     },
     "execution_count": 81,
     "metadata": {},
     "output_type": "execute_result"
    }
   ],
   "source": [
    "X_train3.columns"
   ]
  },
  {
   "cell_type": "code",
   "execution_count": 83,
   "metadata": {},
   "outputs": [
    {
     "name": "stderr",
     "output_type": "stream",
     "text": [
      "<ipython-input-83-7ec48f97d325>:2: SettingWithCopyWarning: \n",
      "A value is trying to be set on a copy of a slice from a DataFrame.\n",
      "Try using .loc[row_indexer,col_indexer] = value instead\n",
      "\n",
      "See the caveats in the documentation: https://pandas.pydata.org/pandas-docs/stable/user_guide/indexing.html#returning-a-view-versus-a-copy\n",
      "  X_test[\"constant\"] = 1\n"
     ]
    }
   ],
   "source": [
    "X_test.columns\n",
    "X_test[\"constant\"] = 1\n",
    "X_test.columns\n",
    "X_test.head()\n",
    "\n",
    "X_tests = X_test[X_train3.columns]"
   ]
  },
  {
   "cell_type": "code",
   "execution_count": 84,
   "metadata": {},
   "outputs": [],
   "source": [
    "y_pred = lin_reg_model.predict(X_tests)\n"
   ]
  },
  {
   "cell_type": "code",
   "execution_count": 85,
   "metadata": {},
   "outputs": [
    {
     "name": "stdout",
     "output_type": "stream",
     "text": [
      "Training Performance\n",
      "\n",
      "Root mean square error:                 6.2825883956841295 \n",
      "mean abs error:                         4.032482163908591 \n",
      "R^2:                                    0.6831997449759999 \n",
      "Adjust R^2:                             0.6814948512356556\n",
      "None\n"
     ]
    }
   ],
   "source": [
    "print('Training Performance\\n')\n",
    "print(model_performance(lin_reg_model, X_train3, y_train))"
   ]
  },
  {
   "cell_type": "code",
   "execution_count": 86,
   "metadata": {},
   "outputs": [
    {
     "name": "stdout",
     "output_type": "stream",
     "text": [
      "Test Performance\n",
      "\n",
      "Root mean square error:                 7.101025977700066 \n",
      "mean abs error:                         4.00183662399763 \n",
      "R^2:                                    0.6147271561231356 \n",
      "Adjust R^2:                             0.6098558902810143\n",
      "None\n"
     ]
    }
   ],
   "source": [
    "print('Test Performance\\n')\n",
    "print(model_performance(lin_reg_model, X_tests, y_test))"
   ]
  },
  {
   "cell_type": "code",
   "execution_count": 87,
   "metadata": {},
   "outputs": [
    {
     "name": "stdout",
     "output_type": "stream",
     "text": [
      "                           Coefficients\n",
      "Year                           0.914339\n",
      "Mileage                       -0.129261\n",
      "Engine                         0.010846\n",
      "Seats                         -2.664288\n",
      "Kilometers_Driven_arcsinh     -1.919860\n",
      "Location_Bangalore             2.051646\n",
      "Location_Chennai               0.753204\n",
      "Location_Coimbatore            2.384199\n",
      "Location_Delhi                -0.280930\n",
      "Location_Hyderabad             1.388917\n",
      "Location_Jaipur                0.680225\n",
      "Location_Kochi                 0.019261\n",
      "Location_Kolkata              -1.519320\n",
      "Location_Mumbai               -0.808202\n",
      "Location_Pune                  0.404749\n",
      "Fuel_Type_Diesel               2.305509\n",
      "Fuel_Type_LPG                  4.309872\n",
      "Transmission_Manual           -5.081086\n",
      "Owner_Type_Fourth & Above      0.115952\n",
      "Owner_Type_Second             -0.226739\n",
      "Owner_Type_Third               0.743399\n",
      "constant                   -1808.633221\n",
      "\n",
      "\n",
      "Training Performance\n",
      "\n",
      "Root mean square error:                 6.2825883956841295 \n",
      "mean abs error:                         4.032482163908591 \n",
      "R^2:                                    0.6831997449759999 \n",
      "Adjust R^2:                             0.6814948512356556\n",
      "None\n"
     ]
    }
   ],
   "source": [
    "lin_regression = LinearRegression(fit_intercept=False)\n",
    "lin_regression.fit(X_train3,y_train)\n",
    "\n",
    "# look at coefficients \n",
    "\n",
    "coefficient = pd.DataFrame(lin_regression.coef_.flatten(), \\\n",
    "                       index=X_train3.columns.tolist(), columns=['Coefficients'])\n",
    "print(coefficient)\n",
    "\n",
    "# model performance\n",
    "print('\\n\\nTraining Performance\\n')\n",
    "print(model_performance(lin_regression, X_train3, y_train))"
   ]
  },
  {
   "cell_type": "markdown",
   "metadata": {},
   "source": [
    "### Observations\n",
    "- The transmission type of manual is the most significant, followed by fuel type (LPG) on price\n",
    "- Kilometers driven is the least significant on price type, followed by engine\n",
    "- seats negatively impact price quite significantly\n",
    "- As km driven increases, usually price decreases\n",
    "- The locations, Bangalore and Coimbatore significantly increase price"
   ]
  },
  {
   "cell_type": "markdown",
   "metadata": {},
   "source": [
    "## Actionable Insights & Recommendations\n",
    "- Cars in Bangalore, Coimbatore, and Hyderabad tend to go for an increased Price whereas cars from Kolkata, Mumbai, and Delhi tend to go for lower prices\n",
    "\n",
    "- Cars with a manual transmission tend to go for lower prices \n",
    "- Cars with a fuel type of LPG tend to go for a higher price\n",
    "- Newer cars also tend to go for a higher price\n",
    "\n",
    "- I would recommend looking for newer cars from either bangalore, coimbatore, and hyderabad, without a manual transmission, a lower amount of km driven, and a fuel type of LPG to maximize the price of the cars\n",
    "\n",
    "- However, this data is purely correlational, so no causation can be determined from this trend."
   ]
  },
  {
   "cell_type": "code",
   "execution_count": null,
   "metadata": {},
   "outputs": [],
   "source": []
  },
  {
   "cell_type": "code",
   "execution_count": null,
   "metadata": {},
   "outputs": [],
   "source": []
  },
  {
   "cell_type": "code",
   "execution_count": null,
   "metadata": {},
   "outputs": [],
   "source": []
  },
  {
   "cell_type": "markdown",
   "metadata": {},
   "source": [
    "### The following code was an attempt to use the train data on the NaN Price rows, but I was not successful"
   ]
  },
  {
   "cell_type": "code",
   "execution_count": null,
   "metadata": {},
   "outputs": [],
   "source": [
    "from sklearn.ensemble import RandomForestRegressor\n",
    "from sklearn.multioutput import MultiOutputRegressor\n",
    "from sklearn.model_selection import train_test_split\n",
    "\n",
    "regr_multirf = MultiOutputRegressor(RandomForestRegressor(max_depth=30,\n",
    "                                                          random_state=0))\n",
    "\n",
    "# Fit on the train data\n",
    "regr_multirf.fit(X_train3, y_train)\n",
    "\n",
    "# Check the prediction score\n",
    "score = regr_multirf.score(X_test, y_test)\n",
    "print(\"The prediction score on the test data is {:.2f}%\".format(score*100))"
   ]
  },
  {
   "cell_type": "code",
   "execution_count": null,
   "metadata": {},
   "outputs": [],
   "source": [
    "## now, I would like to predict the Price column of the rows with missing Price columns, which was split from \n",
    "\n",
    "from sklearn.impute import SimpleImputer\n",
    "\n",
    "test_copy = test_data.copy()\n",
    "test_copy_x = test_copy.drop(columns = [\"S.No.\",\"New_Price\", \"Name\"])\n",
    "test_cdata = pd.get_dummies(test_copy_x, drop_first= True)\n",
    "\n",
    "tests = test_cdata.copy()\n",
    "X_test = tests.drop(columns = [\"Price\"])\n",
    "y_test = tests[\"Price\"]\n",
    "\n",
    "regression_imputer = SimpleImputer(missing_values=np.nan, strategy = regression_model)\n",
    "y_train.fit\n",
    "SimpleImputer()\n",
    "print(regression_imputer.transform(y_test))\n",
    "\n",
    "#regression_model.score(X_test, y_test)"
   ]
  },
  {
   "cell_type": "code",
   "execution_count": null,
   "metadata": {},
   "outputs": [],
   "source": []
  },
  {
   "cell_type": "code",
   "execution_count": null,
   "metadata": {},
   "outputs": [],
   "source": []
  }
 ],
 "metadata": {
  "kernelspec": {
   "display_name": "Python 3",
   "language": "python",
   "name": "python3"
  },
  "language_info": {
   "codemirror_mode": {
    "name": "ipython",
    "version": 3
   },
   "file_extension": ".py",
   "mimetype": "text/x-python",
   "name": "python",
   "nbconvert_exporter": "python",
   "pygments_lexer": "ipython3",
   "version": "3.8.3"
  }
 },
 "nbformat": 4,
 "nbformat_minor": 4
}
